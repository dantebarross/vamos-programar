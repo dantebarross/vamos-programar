{
 "cells": [
  {
   "cell_type": "markdown",
   "metadata": {},
   "source": [
    "# 1.1 Supervised Machine Learning\n",
    "\n",
    "\n",
    "Quando tratamos de Supervised Machine Learning (aprendizado de máquina supervisionado), não há como fugir da **Regressão Logística**, uma técnica estatística de predição de valores. **Em NLP não é diferente**. Vamos compreender as etapas necessárias para implementar esse algoritmo.\n",
    "\n",
    "Para realizar um Supervised ML, temos dois elementos principais:\n",
    "1. Features (X) (o input);\n",
    "2. Labels (Y) (o output).\n",
    "\n",
    "Para que tenhamos predições acuradas baseadas nos dados disponíveis, precisamos minimizar nossas taxas de erro (error rates) ou custo.\n",
    "\n",
    "Através das Features (X), executamos nossa função de predição (que leva em conta os dados de parâmetros) para realizar o output nas Labels (Y). **A tarefa é fazer com que o valor esperado de Y e o valor predito em Y tenha o mínimo de distância possível**. \n",
    "\n",
    "A **função de custo/perda** (**cost/loss function**) compara o quão próximas estão os Outputs e as Labels Y. Os parâmetros são atualizados até que o custo seja minimizado.\n",
    "\n",
    "<img src=\"images/SML.png\" width='50%'>\n",
    "\n",
    "### 1.2 Análise de sentimento\n",
    "Análise de sentimento ou sentiment analysis pode ser obtido através do Supervised Machine Learning (SVM). Vamos **analisar o sentimento de tweets**. Um exemplo:\n",
    "\n",
    "Temos dois tweets:\n",
    "1. \"Eu gosto muito de estudar\";\n",
    "2. \"Eu gosto estudar, mas quando me deparo com matemática fico muito triste\".\n",
    "\n",
    "Qual você acha que deveria ser o Output de nossa análise de sentimento automática para cada uma dessas sentenças? **Em um Supervised Machine Learning, é você que decidirá o Output.** Ou seja, é quem está treinando o modelo que definirá qual as Labels (Y), para que o algoritmo então consiga imitar.\n",
    "\n",
    "Vamos dizer então que o primeiro tweet é **positivo** e o segundo, apesar de um pouco mais complexo, **negativo**. Positivo será \"1\" e negativo \"0\", ou seja, valores binários.\n",
    "\n",
    "Vamos então utilizar o modelo de classificação da **regressão logística** para predizer o sentimento de um tweet:\n",
    "1. primeiro precisamos colher e processar os tweets (que estão em texto cru) para extrair features;\n",
    "2. então treinamos o modelo de regressão logística, e isso inclui repetir até minimizar o custo (cost);\n",
    "3. realizar as predições com tweets ainda não utilizados!\n",
    "\n",
    "<img src=\"images/SML train.png\" width='50%'>"
   ]
  }
 ],
 "metadata": {
  "kernelspec": {
   "display_name": "Python 3",
   "language": "python",
   "name": "python3"
  },
  "language_info": {
   "codemirror_mode": {
    "name": "ipython",
    "version": 3
   },
   "file_extension": ".py",
   "mimetype": "text/x-python",
   "name": "python",
   "nbconvert_exporter": "python",
   "pygments_lexer": "ipython3",
   "version": "3.9.0"
  },
  "varInspector": {
   "cols": {
    "lenName": 16,
    "lenType": 16,
    "lenVar": 40
   },
   "kernels_config": {
    "python": {
     "delete_cmd_postfix": "",
     "delete_cmd_prefix": "del ",
     "library": "var_list.py",
     "varRefreshCmd": "print(var_dic_list())"
    },
    "r": {
     "delete_cmd_postfix": ") ",
     "delete_cmd_prefix": "rm(",
     "library": "var_list.r",
     "varRefreshCmd": "cat(var_dic_list()) "
    }
   },
   "types_to_exclude": [
    "module",
    "function",
    "builtin_function_or_method",
    "instance",
    "_Feature"
   ],
   "window_display": false
  }
 },
 "nbformat": 4,
 "nbformat_minor": 4
}
