{
 "cells": [
  {
   "cell_type": "markdown",
   "metadata": {},
   "source": [
    "# 1. Objetivos do NLP (e uma breve história)\n",
    "As técnicas de NLP se transformaram e evoluiram muito ao longo das últimas décadas. As aplicações mais antigas desse século eram em si cruas, e utilizavam técnicas como \"se você encontrar a palavra **bom** em uma avaliação, significa que o cliente gostou do produto ou serviço\". Eram em geral (e muitas ainda são) baseadas em **sistemas baseados em regras**.\n",
    "\n",
    "Aos poucos foram sendo inseridos sistemas probabilísticos, que permitiam novas aplicações e um ganho na performance. Já são conceitos muito utilizados no mundo do processamento de linguagem. Hoje em dia o **estado da arte** de NLP encontra-se dentro do escopo de **Machine Learning** e **Deep Learning**. Isso se deu principalmente com o aparecimento de processadores e GPUs cada vez mais poderosas, capazes de treinar sistemas que eram inimagináveis anos atrás, capturando padrões de vários tipos. \n",
    "\n",
    "**Um _modelo de língua_ bem treinado pode ser utilizado para o desenvolvimento de diversas aplicações**!\n",
    "\n",
    "Um dos modelos mais utilizados é o Modelo de Atenção (Attention Models), um mecanismo que utiliza Redes Neurais para \"focar\" em aspectos específicos de um _input_ que pode ser muito complexo. **Um modelo desses, que levava semanas ou até meses para treinar, agora pode ser concluído em poucas horas**.\n",
    "\n",
    "Ao longo desse primeiro curso, vamos aprender a distinguir sentimentos negativos e positivos dentro de um texto. Vamos fazer isso utilizando **Regressão Logística** e **Classificadores Naive Bayes**. Algo a se notar é que compreender os conceitos matemáticos é essencial para realmente **saber** o que está acontecendo ao aplicar um determinado algoritmo. Procure saber mais sempre que houver necessidade.\n",
    "\n",
    "Vamos também ver como representar palavras, documentos e outros tipos de texto como **números em vetores**, construir um **sistema de tradução** e  entender o que é **hashing sensível à localidade** (método utilizado para aumentar eficiência em **nearest neighbor search**).\n",
    "\n",
    "### Uma breve história do NLP\n",
    "O Processamento de Linguagem Natural (PLN) ou Natural Language Processing (NLP) é uma subárea interdisciplinar. Consegue unir o mundo da linguística, da ciência computacional e da Inteligência Artificial. O objetivo principal é o de compreender automaticamente inputs de línguas humanas naturais e gerar um output esperado. Em alguns casos, o output é uma reprodução de língua humana natural.\n",
    "\n",
    "Os esforços do NLP abarcam diversos tipos de informações. Podemos simplificar dizendo que se preocupa em decodificar e codificar **texto, fala**, **imagens**, como é o caso das línguas de sinais, que também são línguas humanas naturais e até mesmo **sensações motoras**, como o sistema braille.\n",
    "\n",
    "O desejo de que máquinas entendam e produzam língua natural é milenar, porém podemos iniciar já na **década de 1950**, quando Alan Turing publica seu artigo _\"Computing Machinery and Intelligence\"_, onde discute até que ponto podemos considerar uma máquina inteligente e apta a compreender/produzir conceitos humanos. O **Teste de Turing** é um método de testagem dessa inteligência. Ele consistia em colocar um ser humano frente à uma tela que produz texto escrito. Caso o ser humano tivesse dúvida se aquilo foi realmente escrito por um robô, este pode ser considerado **inteligente**.\n",
    "\n",
    "O conceito de **máquinas inteligentes** surgiu na década de 40 como campo de pesquisa, porém foi após o artigo de Turing tratado acima que o campo ganhou forma e o nome **Inteligência Artificial**.\n",
    "\n",
    "A língua humana foi basicamente a primeira e mais importante barreira a ser cruzada na área da AI, e continua sendo um dos nossos principais desafios."
   ]
  }
 ],
 "metadata": {
  "kernelspec": {
   "display_name": "Python 3",
   "language": "python",
   "name": "python3"
  },
  "language_info": {
   "codemirror_mode": {
    "name": "ipython",
    "version": 3
   },
   "file_extension": ".py",
   "mimetype": "text/x-python",
   "name": "python",
   "nbconvert_exporter": "python",
   "pygments_lexer": "ipython3",
   "version": "3.9.0"
  },
  "varInspector": {
   "cols": {
    "lenName": 16,
    "lenType": 16,
    "lenVar": 40
   },
   "kernels_config": {
    "python": {
     "delete_cmd_postfix": "",
     "delete_cmd_prefix": "del ",
     "library": "var_list.py",
     "varRefreshCmd": "print(var_dic_list())"
    },
    "r": {
     "delete_cmd_postfix": ") ",
     "delete_cmd_prefix": "rm(",
     "library": "var_list.r",
     "varRefreshCmd": "cat(var_dic_list()) "
    }
   },
   "types_to_exclude": [
    "module",
    "function",
    "builtin_function_or_method",
    "instance",
    "_Feature"
   ],
   "window_display": false
  }
 },
 "nbformat": 4,
 "nbformat_minor": 4
}
