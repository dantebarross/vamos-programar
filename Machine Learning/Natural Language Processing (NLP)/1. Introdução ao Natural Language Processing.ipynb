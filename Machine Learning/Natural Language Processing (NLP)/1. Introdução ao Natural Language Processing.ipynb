{
 "cells": [
  {
   "cell_type": "markdown",
   "metadata": {},
   "source": [
    "# Introdução ao Natural Language Processing\n",
    "Olá! Bem vindo a mais uma sessão de guias úteis. Nessa categoria, trataremos sobre **Natural Language Processing (NLP)** ou **Processamento de Linguagem Natural (PLN)**. Caso já tenha entrado no mundo do Machine Learning, já se deparou com algumas aplicações desse ramo, e **com certeza** utiliza diariamente diversas aplicações que envolvem NLP, vamos listar algumas:\n",
    "1. completar textos (no gmail, no teclado do android, em barras de pesquisa);\n",
    "2. a própria tarefa de busca do Google e outros mecanismos de busca;\n",
    "3. tradução automática;\n",
    "4. legendagem automática do Youtube;\n",
    "5. corretor ortográfico;\n",
    "6. comandos de voz.\n",
    "\n",
    "E esses são apenas os usos diários de algumas funcionalidades proporcionadas pelo NLP. Qualquer algoritmo que seja pensado para entender e produzir linguagem humana pode ser considerado dessa categoria. Por conta de a linguagem humana ser **uma das tarefas mais complexas e constantes do ser humano**, essa categoria de Machine Learning é uma das mais utilizadas e estudadas hoje em dia. \n",
    "\n",
    "Daqui em diante, estaremos estudando modos de construir **modelos** que consigam descobrir padrões em dados linguísticos, que analisem a fala e o texto e produzam percepções e execuções de língua escrita e até mesmo falada.\n",
    "\n",
    "Alguns exemplos do que poderemos realizar futuramente:\n",
    "1. analisar o sentimento de um dado texto;\n",
    "2. responder perguntas (e também desenvolver um sistema _chatbot_);\n",
    "3. traduzir de um idioma ao outro;\n",
    "4. sintetizar textos;\n",
    "\n",
    "A maior parte do conhecimento desses guias e organização em módulos é resultado de minha Especialização em Natural Language Processing (NLP) pelo deeplearning.ai. O curso online está disponível através da plataforma do Coursera (https://www.coursera.org/specializations/natural-language-processing).\n",
    "\n",
    "Vamos aprender ao longo dos guias:\n",
    "\n",
    "1. Processamento de linguagem natural com classificação e espaços vetoriais\n",
    "    1. **análise de sentimento** de tweets usando **regressão logística** e classificador **Bayes ingênuo**;\n",
    "    2. **modelos de espaço vetorial** para descobrir **relações entre palavras** e usar **PCA** (Análise de Componentes Principais) para reduzir a dimensionalidade do espaço vetorial e visualizar essas relações;\n",
    "    3. Escreva um algoritmo de **tradução** simples usando **embeddings** de palavras pré-calculados e **hashing** sensível à localidade para relacionar palavras por meio de pesquisa aproximada de k-vizinho mais próximo. \n",
    "\n",
    "2. Processamento de linguagem natural com modelos probabilísticos\n",
    "    1. Criar um algoritmo de **autocorreção** simples usando **distância mínima de edição e programação dinâmica**;\n",
    "    2. Aplicar o Algoritmo de **Viterbi** para marcação de classes gramaticais **(POS)**, que é importante para a linguística computacional;\n",
    "    3. Escreva um algoritmo de **autocompletar** usando um modelo de linguagem **N-gram**;\n",
    "    4. Escreva seu próprio modelo **Word2Vec** que usa uma **rede neural** para calcular **embeddings** de palavras usando um pacote contínuo de modelo de palavras. \n",
    "\n",
    "3. Processamento de linguagem natural com modelos de sequência\n",
    "    1. Treinar uma **rede neural com embeddings** de palavras **GLoVe** para realizar **análise de sentimento** de tweets;\n",
    "    2. **Gerar texto** sintético de Shakespeare usando **Gated Recurrent Unit** (GRU);\n",
    "    3. Treinar uma **rede neural recorrente** (RNN) para realizar o reconhecimento de **entidade nomeada** (NER) usando **LSTMs** com camadas lineares;\n",
    "    4. Usar os chamados modelos **LSTM 'siameses'** para **comparar perguntas** em um corpus e identificar aquelas que são formuladas de **forma diferente, mas têm o mesmo significado**. \n",
    "\n",
    "4. Processamento de linguagem natural com modelos de atenção\n",
    "    1. **Traduzir frases completas** usando um **modelo de atenção** codificador-decodificador;\n",
    "    2. Construir um modelo **Transformer** para **resumir** texto;\n",
    "    3. Usar **T5** e Modelos de **BERT** para responder a perguntas;\n",
    "    4. Construir um **chatbot** usando um modelo **Reformer**. \n",
    "\n",
    "\n",
    "Vamos começar?"
   ]
  }
 ],
 "metadata": {
  "kernelspec": {
   "display_name": "Python 3",
   "language": "python",
   "name": "python3"
  },
  "language_info": {
   "codemirror_mode": {
    "name": "ipython",
    "version": 3
   },
   "file_extension": ".py",
   "mimetype": "text/x-python",
   "name": "python",
   "nbconvert_exporter": "python",
   "pygments_lexer": "ipython3",
   "version": "3.9.0"
  },
  "varInspector": {
   "cols": {
    "lenName": 16,
    "lenType": 16,
    "lenVar": 40
   },
   "kernels_config": {
    "python": {
     "delete_cmd_postfix": "",
     "delete_cmd_prefix": "del ",
     "library": "var_list.py",
     "varRefreshCmd": "print(var_dic_list())"
    },
    "r": {
     "delete_cmd_postfix": ") ",
     "delete_cmd_prefix": "rm(",
     "library": "var_list.r",
     "varRefreshCmd": "cat(var_dic_list()) "
    }
   },
   "types_to_exclude": [
    "module",
    "function",
    "builtin_function_or_method",
    "instance",
    "_Feature"
   ],
   "window_display": false
  }
 },
 "nbformat": 4,
 "nbformat_minor": 4
}
