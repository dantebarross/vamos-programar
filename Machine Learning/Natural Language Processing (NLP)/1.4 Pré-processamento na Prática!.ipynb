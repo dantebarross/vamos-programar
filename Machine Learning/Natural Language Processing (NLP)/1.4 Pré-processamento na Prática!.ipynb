{
 "cells": [
  {
   "cell_type": "markdown",
   "metadata": {},
   "source": [
    "# 1.4 Pré-processamento na Prática!\n",
    "Agora que já sabemos o que estará acontecendo ao executarmos comandos simples, podemos utilizar uma ferramenta de NLP para realizar nossos pré-processamentos! Vamos utilizar a mais conhecida delas, **NLTK** (Natural Language Toolkit).\n",
    "\n",
    "### 1.4.1 Instalando e importando corpus\n",
    "Para instalar o NLTK, certifique-se de que você está com o seu Python atualizado. Realize o ``pip install nltk``.\n",
    "\n",
    "O NLTK tem diversos corpus que podemos utilizar para praticar e testar as ferramentas. Aqui, utilizaremos o _dataset_ **twitter_samples**. Esse corpus possui 5000 tweets positivos e 5000 negativos (isso é um balanceamento perfeito, apesar de humanamente artificial). Caso ainda não tenha o _dataset_ do twitter em sua máquina, realize o comando ``nltk.download('twitter_samples')``. Você também pode executar ``nltk.download()`` e instalar todos os pacotes de uma vez.\n",
    "\n",
    "Também utilizaremos o **matplotlib** para visualização gráfica. Caso não tenha, ``pip install matplotlib``."
   ]
  },
  {
   "cell_type": "code",
   "execution_count": 10,
   "metadata": {},
   "outputs": [
    {
     "name": "stdout",
     "output_type": "stream",
     "text": [
      "Tweets positivos:  5000\n",
      "Tweets negativos:  5000\n",
      "\n",
      "Tipo da variável tweets_positivos:  <class 'list'>\n",
      "Tipo de uma entrada individual:  <class 'str'>\n"
     ]
    }
   ],
   "source": [
    "import nltk\n",
    "from nltk.corpus import twitter_samples\n",
    "import matplotlib.pyplot as plt\n",
    "import random\n",
    "\n",
    "# Agora vamos separar os campos de texto entre negativos e negativos\n",
    "tweets_positivos = twitter_samples.strings('positive_tweets.json')\n",
    "tweets_negativos = twitter_samples.strings('negative_tweets.json')\n",
    "\n",
    "print('Tweets positivos: ', len(tweets_positivos))\n",
    "print('Tweets negativos: ', len(tweets_negativos))\n",
    "\n",
    "print('\\nTipo da variável tweets_positivos: ', type(tweets_positivos)) #classe lista\n",
    "print('Tipo de uma entrada individual: ', type(tweets_positivos[0])) #classe string"
   ]
  },
  {
   "cell_type": "markdown",
   "metadata": {},
   "source": [
    "### 1.4.2 Mostrando o corpus graficamente"
   ]
  },
  {
   "cell_type": "code",
   "execution_count": 12,
   "metadata": {},
   "outputs": [
    {
     "data": {
      "image/png": "[encoded data removed]",
      "text/plain": [
       "<Figure size 360x360 with 1 Axes>"
      ]
     },
     "metadata": {},
     "output_type": "display_data"
    }
   ],
   "source": [
    "# Agora vamos criar uma visualização em formato pizza (_pie_) com o matplotlib\n",
    "fig = plt.figure(figsize=(5, 5)) # esse tamanho é customizável, e é opcional também\n",
    "labels = 'Positivos', 'Negativos'\n",
    "sizes = [len(tweets_positivos), len(tweets_negativos)] # vamos pegar o tamanho de cada categoria\n",
    "\n",
    "# Declaramos o gráfico pizza chamando as categorias e labels através das variáveis, e as outras configurações são opcionais e customizáveis \n",
    "plt.pie(sizes, labels=labels, autopct='%1.1f%%', shadow=True, startangle=90) \n",
    "plt.axis('equal') # Iguala X e Y para que tenha formato de círculo, se não pode virar uma elipse\n",
    "plt.show() # Para exibir o gráfico"
   ]
  },
  {
   "cell_type": "markdown",
   "metadata": {},
   "source": [
    "### 1.4.3 Analisando o texto cru (raw text)\n",
    "Antes de qualquer coisa, precisamos conhecer muito bem o nosso corpus, e isso significa identificar as características mais diversas dentro dele para que tomemos decisões corretas. Texto cru (**raw text**) é como chamamos aquele campo de texto que ainda não foi pré-processado. \n",
    "\n",
    "Vamos realizar o _print_ de tweets aleatórios (para que nossa análise não seja enviezada ascendentemente). Aqui no Jupyter Notebook, você pode executar os códigos abaixo o quanto quiser clicando na janela e apertando _Ctrl + Enter_."
   ]
  },
  {
   "cell_type": "code",
   "execution_count": 42,
   "metadata": {},
   "outputs": [
    {
     "name": "stdout",
     "output_type": "stream",
     "text": [
      "\u001b[92m@BrizzleLass This is briliant. Was literally just having a conversation about post v email when I saw this :)\n",
      "\u001b[91maw fuck there's a dress bag on the floor. dammit that's really loud :(\n"
     ]
    }
   ],
   "source": [
    "print('\\033[92m' + tweets_positivos[random.randint(0,5000)]) #utilizando a cor verde\n",
    "print('\\033[91m' + tweets_negativos[random.randint(0,5000)]) #utilizando a cor vermelha"
   ]
  },
  {
   "cell_type": "markdown",
   "metadata": {},
   "source": [
    "Após algumas exibições, você deve ter reparado que existem muitos emoticons, URLs e nicknames no formato @nickname."
   ]
  },
  {
   "cell_type": "markdown",
   "metadata": {},
   "source": [
    "### 1.4.4 Pré-processando o texto cru (raw text)\n",
    "Agora sim já temos segurança o suficiente para tomar decisões e realizar o pré-processamento dos tweets! É nessa etapa que limpamos e formatamos os dados para que o objetivo final seja alcançado sem entraves. Vamos colocar em prática o que vimos no último guia:\n",
    "1. tokenizar as strings;\n",
    "2. lowercasing (caixa baixa);\n",
    "3. remover stop words e pontuações;\n",
    "4. stemming."
   ]
  },
  {
   "cell_type": "code",
   "execution_count": 52,
   "metadata": {},
   "outputs": [
    {
     "name": "stdout",
     "output_type": "stream",
     "text": [
      "My beautiful sunflowers on a sunny Friday morning off :) #sunflowers #favourites #happy #Friday off… https://t.co/3tfYom0N1i\n"
     ]
    }
   ],
   "source": [
    "# Para isso, vamos selecionar um tweet complexo o suficiente para que sejam feitas todas as alterações ditas acima.\n",
    "tweet_de_amostra = tweets_positivos[2277]\n",
    "print(tweet_de_amostra)\n",
    "\n",
    "# Caso uma string não seja o suficiente para performar todas as mudanças, podemos utilizar tranquilamente duas ou mais"
   ]
  },
  {
   "cell_type": "code",
   "execution_count": 46,
   "metadata": {},
   "outputs": [
    {
     "name": "stderr",
     "output_type": "stream",
     "text": [
      "[nltk_data] Downloading package stopwords to\n",
      "[nltk_data]     C:\\Users\\Dante\\AppData\\Roaming\\nltk_data...\n",
      "[nltk_data]   Package stopwords is already up-to-date!\n"
     ]
    },
    {
     "data": {
      "text/plain": [
       "True"
      ]
     },
     "execution_count": 46,
     "metadata": {},
     "output_type": "execute_result"
    }
   ],
   "source": [
    "nltk.download('stopwords') # Em seu python, execute esse comando para realizar o download da biblioteca \"stopwords\""
   ]
  },
  {
   "cell_type": "code",
   "execution_count": 48,
   "metadata": {},
   "outputs": [],
   "source": [
    "import re # Biblioteca para operar Regular Expressions (RegEx)\n",
    "import string # Biblioteca para operar strings\n",
    "\n",
    "# Agora vamos importar os três módulos de NLTK que utilizaremos\n",
    "from nltk.corpus import stopwords\n",
    "from nltk.stem import PorterStemmer\n",
    "from nltk.tokenize import TweetTokenizer"
   ]
  },
  {
   "cell_type": "markdown",
   "metadata": {},
   "source": [
    "### 1.4.5 RegEx\n",
    "O **RegEx** é **tão simples e tão funcional** que chega a ser um absurdo! Através de pequenos comandos, que podem parecer complexo mas são facilmente compreendidos, podemos encontrar padrões e escolher o que fazer com eles. Entre nesse site se quiser aprender e praticar o RegEx: https://regexr.com/\n",
    "\n",
    "Vamos remover URLs, marcações de retweets e hashtags. Para isso, faremos a busca dos padrões (_patterns_) e utilizaremos o método **sub()** para substituir o padrão encontrado por uma string vazia ('')."
   ]
  },
  {
   "cell_type": "code",
   "execution_count": 53,
   "metadata": {},
   "outputs": [
    {
     "name": "stdout",
     "output_type": "stream",
     "text": [
      "\u001b[92mMy beautiful sunflowers on a sunny Friday morning off :) #sunflowers #favourites #happy #Friday off… https://t.co/3tfYom0N1i\n",
      "\u001b[94m\n",
      "My beautiful sunflowers on a sunny Friday morning off :) sunflowers favourites happy Friday off… \n"
     ]
    }
   ],
   "source": [
    "print('\\033[92m' + tweet_de_amostra)\n",
    "print('\\033[94m')\n",
    "\n",
    "tweet_prepro = re.sub(r'^RT[\\s]+', '', tweet_de_amostra) # remove retweet \"RT\"\n",
    "tweet_prepro = re.sub(r'https?:\\/\\/.*[\\r\\n]*', '', tweet_prepro) # remove hyperlinks\n",
    "tweet_prepro = re.sub(r'#', '', tweet_prepro) # remove hashtags\n",
    "\n",
    "print(tweet_prepro)"
   ]
  },
  {
   "cell_type": "markdown",
   "metadata": {},
   "source": [
    "_Voilà_! Retiramos hashtags e removemos a URL da string \"tweet_de_amostra\". Podemos também remover emoticons e alterar quaisquer padrões que forem encontrados.\n",
    "\n",
    "### 1.4.6 Tokenizando e realizando lowering case de strings\n",
    "**Tokenizar** uma string significa separar palavras, pontuações e outros elementos em **tokens**, sem espaços nem tabs. Também vamos realizar a **lowering case** de nossa string \"tweet_prepro\"."
   ]
  },
  {
   "cell_type": "code",
   "execution_count": 56,
   "metadata": {},
   "outputs": [
    {
     "name": "stdout",
     "output_type": "stream",
     "text": [
      "\u001b[92mMy beautiful sunflowers on a sunny Friday morning off :) sunflowers favourites happy Friday off… \n",
      "\u001b[94m\n",
      "Tokenized string:\n",
      "['my', 'beautiful', 'sunflowers', 'on', 'a', 'sunny', 'friday', 'morning', 'off', ':)', 'sunflowers', 'favourites', 'happy', 'friday', 'off', '…']\n"
     ]
    }
   ],
   "source": [
    "print('\\033[92m' + tweet_prepro)\n",
    "print('\\033[94m')\n",
    "\n",
    "tokenizer = TweetTokenizer(preserve_case=False, strip_handles=True, reduce_len=True) # Instanciando a classe tokenizer\n",
    "tweet_tokenizado = tokenizer.tokenize(tweet_prepro) # Realizando a tokenização do string \"tweet_prepro\"\n",
    "\n",
    "print('Tokenized string:')\n",
    "print(tweet_tokenizado)"
   ]
  },
  {
   "cell_type": "markdown",
   "metadata": {},
   "source": [
    "### 1.4.7 Removendo stop words e pontuações\n",
    "Para remover as **stop words** e as **pontuações**, utilizaremos o módulo do NLTK \"stopwords\" para o inglês e a bibliteca Strings para resgatar as pontuações."
   ]
  },
  {
   "cell_type": "code",
   "execution_count": 59,
   "metadata": {},
   "outputs": [
    {
     "name": "stdout",
     "output_type": "stream",
     "text": [
      "Stop words\n",
      "\n",
      "['i', 'me', 'my', 'myself', 'we', 'our', 'ours', 'ourselves', 'you', \"you're\", \"you've\", \"you'll\", \"you'd\", 'your', 'yours', 'yourself', 'yourselves', 'he', 'him', 'his', 'himself', 'she', \"she's\", 'her', 'hers', 'herself', 'it', \"it's\", 'its', 'itself', 'they', 'them', 'their', 'theirs', 'themselves', 'what', 'which', 'who', 'whom', 'this', 'that', \"that'll\", 'these', 'those', 'am', 'is', 'are', 'was', 'were', 'be', 'been', 'being', 'have', 'has', 'had', 'having', 'do', 'does', 'did', 'doing', 'a', 'an', 'the', 'and', 'but', 'if', 'or', 'because', 'as', 'until', 'while', 'of', 'at', 'by', 'for', 'with', 'about', 'against', 'between', 'into', 'through', 'during', 'before', 'after', 'above', 'below', 'to', 'from', 'up', 'down', 'in', 'out', 'on', 'off', 'over', 'under', 'again', 'further', 'then', 'once', 'here', 'there', 'when', 'where', 'why', 'how', 'all', 'any', 'both', 'each', 'few', 'more', 'most', 'other', 'some', 'such', 'no', 'nor', 'not', 'only', 'own', 'same', 'so', 'than', 'too', 'very', 's', 't', 'can', 'will', 'just', 'don', \"don't\", 'should', \"should've\", 'now', 'd', 'll', 'm', 'o', 're', 've', 'y', 'ain', 'aren', \"aren't\", 'couldn', \"couldn't\", 'didn', \"didn't\", 'doesn', \"doesn't\", 'hadn', \"hadn't\", 'hasn', \"hasn't\", 'haven', \"haven't\", 'isn', \"isn't\", 'ma', 'mightn', \"mightn't\", 'mustn', \"mustn't\", 'needn', \"needn't\", 'shan', \"shan't\", 'shouldn', \"shouldn't\", 'wasn', \"wasn't\", 'weren', \"weren't\", 'won', \"won't\", 'wouldn', \"wouldn't\"]\n",
      "\\Pontuações\n",
      "\n",
      "!\"#$%&'()*+,-./:;<=>?@[\\]^_`{|}~\n"
     ]
    }
   ],
   "source": [
    "stopwords_english = stopwords.words('english') # Importando a lista de stop words do inglês\n",
    "\n",
    "print('Stop words\\n')\n",
    "print(stopwords_english)\n",
    "\n",
    "print('\\Pontuações\\n')\n",
    "print(string.punctuation)"
   ]
  },
  {
   "cell_type": "markdown",
   "metadata": {},
   "source": [
    "Uma boa prática é analisar quais stop words podem ser úteis para o objetivo final (que nesse caso é a análise de sentimento) e então removê-las da lista, porém aqui vamos trabalhar com a lista inteira."
   ]
  },
  {
   "cell_type": "code",
   "execution_count": 61,
   "metadata": {},
   "outputs": [
    {
     "name": "stdout",
     "output_type": "stream",
     "text": [
      "\n",
      "\u001b[92m\n",
      "['my', 'beautiful', 'sunflowers', 'on', 'a', 'sunny', 'friday', 'morning', 'off', ':)', 'sunflowers', 'favourites', 'happy', 'friday', 'off', '…']\n",
      "\u001b[94m\n",
      "Stop words e pontuações removidas:\n",
      "['beautiful', 'sunflowers', 'sunny', 'friday', 'morning', ':)', 'sunflowers', 'favourites', 'happy', 'friday', '…']\n"
     ]
    }
   ],
   "source": [
    "print()\n",
    "print('\\033[92m')\n",
    "print(tweet_tokenizado)\n",
    "print('\\033[94m')\n",
    "\n",
    "tweets_clean = []\n",
    "\n",
    "for word in tweet_tokenizado: # Para cada token em nossa lista de tokens\n",
    "    if (word not in stopwords_english and  # remove stopwords\n",
    "        word not in string.punctuation):  # remove pontuações\n",
    "        tweets_clean.append(word)\n",
    "\n",
    "print('Stop words e pontuações removidas:')\n",
    "print(tweets_clean)"
   ]
  },
  {
   "cell_type": "markdown",
   "metadata": {},
   "source": [
    "### 1.4.8 Stemming\n",
    "Vamos converter os tokens em sua forma mais geral, o **stem**. Para isso utilizaremos o módulo PorterStemmer() do NLTK. Saiba que existem diferentes algoritmos, inclusive o próprio NLTK possui diferentes módulos de stemming. Procure saber a diferença entre eles."
   ]
  },
  {
   "cell_type": "code",
   "execution_count": 63,
   "metadata": {},
   "outputs": [
    {
     "name": "stdout",
     "output_type": "stream",
     "text": [
      "\n",
      "\u001b[92m\n",
      "['beautiful', 'sunflowers', 'sunny', 'friday', 'morning', ':)', 'sunflowers', 'favourites', 'happy', 'friday', '…']\n",
      "\u001b[94m\n",
      "Tokens stemmizados:\n",
      "['beauti', 'sunflow', 'sunni', 'friday', 'morn', ':)', 'sunflow', 'favourit', 'happi', 'friday', '…']\n"
     ]
    }
   ],
   "source": [
    "print()\n",
    "print('\\033[92m')\n",
    "print(tweets_clean)\n",
    "print('\\033[94m')\n",
    "\n",
    "stemmer = PorterStemmer() # Instanciando a classe de stemming\n",
    "\n",
    "tweets_stem = [] \n",
    "\n",
    "for word in tweets_clean: # Para cada token 'word' na lista 'tweets_clean'\n",
    "    stem_word = stemmer.stem(word)  # stemming 'word'\n",
    "    tweets_stem.append(stem_word)  # append para a lista 'tweets_stem'\n",
    "\n",
    "print('Tokens stemmizados:')\n",
    "print(tweets_stem)"
   ]
  },
  {
   "cell_type": "markdown",
   "metadata": {},
   "source": [
    "### 1.4.9 Pré-processando os tweets\n",
    "Como todas as etapas do pré-processamento de strings foram feitas com sucesso utilizando nossa amostra, podemos agora criar uma função ``process_tweet(tweet)`` para realizar todas as etapas novamente em quaiquer tweets ou até mesmo em um _dataset_ inteiro! "
   ]
  },
  {
   "cell_type": "code",
   "execution_count": 112,
   "metadata": {},
   "outputs": [
    {
     "name": "stdout",
     "output_type": "stream",
     "text": [
      ".@UnityCSGOTeam tomorrow morning mate :)\n",
      "\n",
      "tweet_prepro: .@UnityCSGOTeam tomorrow morning mate :)\n",
      "tweet_tokenizado: ['.', 'tomorrow', 'morning', 'mate', ':)']\n",
      "tweets_clean: ['tomorrow', 'morning', 'mate', ':)']\n",
      "preprocessed_tweet: ['tomorrow', 'morn', 'mate', ':)']\n",
      "None\n"
     ]
    }
   ],
   "source": [
    "def process_tweet(tweet): \n",
    "    stemmer = PorterStemmer()\n",
    "    stopwords_english = stopwords.words('english') # Importando a lista de stop words do inglês\n",
    "    tweet_prepro = re.sub(r'^RT[\\s]+', '', tweet) # remove retweet \"RT\"\n",
    "    tweet_prepro = re.sub(r'https?:\\/\\/.*[\\r\\n]*', '', tweet_prepro) # remove hyperlinks\n",
    "    tweet_prepro = re.sub(r'#', '', tweet_prepro) # remove hashtags\n",
    "    tokenizer = TweetTokenizer(preserve_case=False, strip_handles=True, reduce_len=True) # Instanciando a classe tokenizer\n",
    "    tweet_tokenizado = tokenizer.tokenize(tweet_prepro) # Realizando a tokenização do string \"tweet_prepro\"\n",
    "    print('tweet_prepro:', tweet_prepro)\n",
    "    print('tweet_tokenizado:', tweet_tokenizado)\n",
    "    tweets_clean = []    \n",
    "    \n",
    "    for word in tweet_tokenizado: # Para cada token em nossa lista de tokens\n",
    "        if (word not in stopwords_english and word not in string.punctuation):\n",
    "            tweets_clean.append(word)\n",
    "         \n",
    "    print('tweets_clean:', tweets_clean)\n",
    "        \n",
    "    tweets_stem = [] \n",
    "    \n",
    "    for word in tweets_clean: # Para cada token 'word' na lista 'tweets_clean'\n",
    "        stem_word = stemmer.stem(word)  # stemming 'word'\n",
    "        tweets_stem.append(stem_word)  # append para a lista 'tweets_stem'\n",
    "    \n",
    "    print('preprocessed_tweet:', tweets_stem)\n",
    "\n",
    "\n",
    "print(tweets_positivos[2276])\n",
    "print()\n",
    "print(process_tweet(tweets_positivos[2276]))\n"
   ]
  }
 ],
 "metadata": {
  "kernelspec": {
   "display_name": "Python 3",
   "language": "python",
   "name": "python3"
  },
  "language_info": {
   "codemirror_mode": {
    "name": "ipython",
    "version": 3
   },
   "file_extension": ".py",
   "mimetype": "text/x-python",
   "name": "python",
   "nbconvert_exporter": "python",
   "pygments_lexer": "ipython3",
   "version": "3.9.0"
  },
  "varInspector": {
   "cols": {
    "lenName": 16,
    "lenType": 16,
    "lenVar": 40
   },
   "kernels_config": {
    "python": {
     "delete_cmd_postfix": "",
     "delete_cmd_prefix": "del ",
     "library": "var_list.py",
     "varRefreshCmd": "print(var_dic_list())"
    },
    "r": {
     "delete_cmd_postfix": ") ",
     "delete_cmd_prefix": "rm(",
     "library": "var_list.r",
     "varRefreshCmd": "cat(var_dic_list()) "
    }
   },
   "types_to_exclude": [
    "module",
    "function",
    "builtin_function_or_method",
    "instance",
    "_Feature"
   ],
   "window_display": false
  }
 },
 "nbformat": 4,
 "nbformat_minor": 4
}
