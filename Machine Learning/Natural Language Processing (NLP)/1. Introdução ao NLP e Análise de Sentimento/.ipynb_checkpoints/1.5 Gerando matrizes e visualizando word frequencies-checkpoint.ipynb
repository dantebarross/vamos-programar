{
 "cells": [
  {
   "cell_type": "markdown",
   "metadata": {},
   "source": [
    "# 1.5 Gerando matrizes e visualizando word frequencies\n",
    "### 1.5.1 Retomando\n",
    "Nos guias anteriores, vimos como são feitas as matrizes de sentenças. Cada um dos tweets tinha três parâmetros correspondentes, o bias, a soma das frequências positivas e a soma das frequências negativas (exemplo: [1, 4, 2]).\n",
    "\n",
    "Exemplificando, a matriz de uma lista de sentenças então ficaria de modo semelhante a esse: \n",
    "[[1, 3, 5],\n",
    "[1, 0, 2],\n",
    "[1, 6, 5]]\n",
    "\n",
    "Cada linha corresponde aos três features de cada sentença, porém o que separa as linhas é a vírgula. Sendo assim, é apensa uma questão de organização visual a linearização da matriz.\n",
    "\n",
    "Resumindo, o que vamos ver agora depende da função build_freqs e da função process_tweet, ambas se encontram no arquivo **utils.py**.\n",
    "```\n",
    "freqs = build_freqs(tweets,labels) # Cria o dicionário de frequências usando a função build_freqs()\n",
    "X = np.zeros((m,3)) # Matriz \"x\" inicia zerada e possui três parâmetros [0, 0, 0]\n",
    "for i in range(m): Para cada tweet...\n",
    "    p_tweet = process_tweet(tweets[i]) # Pré-processar (tokenização, stop words, stem, etc)\n",
    "    x[i,:] = extract_features(p_tweet,freqs) # Extrai as features somando as frequências positivas e negativas\n",
    "```\n",
    "Vamos importar as funções do utils.py para nos auxiliar no cálculo das **word frequencies**, e então visualizar isso no _dataset_.\n",
    "\n",
    "### 1.5.2 Carregando bibliotecas, funções e _dataset_"
   ]
  },
  {
   "cell_type": "code",
   "execution_count": 32,
   "metadata": {},
   "outputs": [
    {
     "name": "stderr",
     "output_type": "stream",
     "text": [
      "[nltk_data] Downloading package stopwords to\n",
      "[nltk_data]     C:\\Users\\Dante\\AppData\\Roaming\\nltk_data...\n",
      "[nltk_data]   Package stopwords is already up-to-date!\n"
     ]
    },
    {
     "name": "stdout",
     "output_type": "stream",
     "text": [
      "Number of tweets:  10000\n"
     ]
    }
   ],
   "source": [
    "import nltk                                  # Biblioteca de NLP\n",
    "from nltk.corpus import twitter_samples      # Corpus de tweets\n",
    "import matplotlib.pyplot as plt              # Visualização gráfica\n",
    "import numpy as np                           # Biblioteca de Ciência da Computação e operações de matriz\n",
    "nltk.download('stopwords') # Para a função process_tweet\n",
    "\n",
    "# import our convenience functions\n",
    "from utils import process_tweet, build_freqs # O utils.py, bem como suas funções, está dentro dessa mesma pasta. \n",
    "\n",
    "# select the lists of positive and negative tweets\n",
    "all_positive_tweets = twitter_samples.strings('positive_tweets.json')\n",
    "all_negative_tweets = twitter_samples.strings('negative_tweets.json')\n",
    "\n",
    "# concatenate the lists, 1st part is the positive tweets followed by the negative\n",
    "tweets = all_positive_tweets + all_negative_tweets\n",
    "\n",
    "# let's see how many tweets we have\n",
    "print(\"Number of tweets: \", len(tweets))"
   ]
  },
  {
   "cell_type": "markdown",
   "metadata": {},
   "source": [
    "Por fim, teremos um array etiquetado. Ele pode ser entendido como uma lista comum, porém é otimizado para atividades computacionais e manipulação.\n",
    "\n",
    "Nossas 10.000 sentenças são dividas em 5.000 positivas e 5.000 negativas, que são preenchidas respectivamentes por '1' e '0'. Algumas operações úteis da biblioteca **numpy** nos auxiliam a realizar tais alterações.\n",
    "- ``p.ones()`` cria um array '1';\n",
    "- ``np.zeros()`` cria um array '0';\n",
    "- ``np.append()`` concatena arrays."
   ]
  },
  {
   "cell_type": "code",
   "execution_count": 33,
   "metadata": {},
   "outputs": [],
   "source": [
    "# array NumPy representando o número de cada label dos tweets\n",
    "labels = np.append(np.ones((len(all_positive_tweets))), np.zeros((len(all_negative_tweets))))"
   ]
  },
  {
   "cell_type": "markdown",
   "metadata": {},
   "source": [
    "### 1.5.3 Dicionários\n",
    "Podemos criar **dicionários** em Python. Eles são coleções mutáveis e indexadas, e itens como pares de valor-chave. Para que consultas sejam feitas em tempo constante, os dicionários utilizam o _data structure_ **hash table** (https://en.wikipedia.org/wiki/Hash_table).\n",
    "\n",
    "Os dicionários são muito utilizados no NLP exatamente por conta do resgate rápido de itens. Vamos definir um dicionário utilizando chaves (brackets):"
   ]
  },
  {
   "cell_type": "code",
   "execution_count": 34,
   "metadata": {},
   "outputs": [],
   "source": [
    "dicionario = {'chave1': 1, 'chave2' : 2}"
   ]
  },
  {
   "cell_type": "markdown",
   "metadata": {},
   "source": [
    "A variável **dicionario** agora está relacionada a um dicionário com duas entradas. Cada entrada possui uma **chave** e um **valor**. Podemos utilizar quaisquer tipos de valor nas entradas (float, int, tuple, string).\n",
    "\n",
    "Para **adicionar e modificar entradas**, chamamos a variável e utilizamos formato de colchete para indicar a chave a ser adicionada/alterada."
   ]
  },
  {
   "cell_type": "code",
   "execution_count": 35,
   "metadata": {},
   "outputs": [
    {
     "name": "stdout",
     "output_type": "stream",
     "text": [
      "{'chave1': 4, 'chave2': 2, 'chave3': 3}\n"
     ]
    }
   ],
   "source": [
    "dicionario['chave3'] = 3\n",
    "dicionario['chave1'] = 4\n",
    "print(dicionario)"
   ]
  },
  {
   "cell_type": "markdown",
   "metadata": {},
   "source": [
    "Para **acessar valores e chaves**, podemos utilizar dois métodos:\n",
    "1. Utilizando o colchete (square bracket) para valores que existem;\n",
    "2. Utilizando o método **.get()**."
   ]
  },
  {
   "cell_type": "code",
   "execution_count": 36,
   "metadata": {},
   "outputs": [
    {
     "name": "stdout",
     "output_type": "stream",
     "text": [
      "3\n"
     ]
    }
   ],
   "source": [
    "print(dicionario['chave3'])"
   ]
  },
  {
   "cell_type": "code",
   "execution_count": 37,
   "metadata": {},
   "outputs": [
    {
     "ename": "KeyError",
     "evalue": "'chave4'",
     "output_type": "error",
     "traceback": [
      "\u001b[1;31m---------------------------------------------------------------------------\u001b[0m",
      "\u001b[1;31mKeyError\u001b[0m                                  Traceback (most recent call last)",
      "\u001b[1;32m<ipython-input-37-f14ab69cafb2>\u001b[0m in \u001b[0;36m<module>\u001b[1;34m\u001b[0m\n\u001b[1;32m----> 1\u001b[1;33m \u001b[0mprint\u001b[0m\u001b[1;33m(\u001b[0m\u001b[0mdicionario\u001b[0m\u001b[1;33m[\u001b[0m\u001b[1;34m'chave4'\u001b[0m\u001b[1;33m]\u001b[0m\u001b[1;33m)\u001b[0m \u001b[1;31m# A chave não existe, então retornará 'KeyError'\u001b[0m\u001b[1;33m\u001b[0m\u001b[1;33m\u001b[0m\u001b[0m\n\u001b[0m",
      "\u001b[1;31mKeyError\u001b[0m: 'chave4'"
     ]
    }
   ],
   "source": [
    "print(dicionario['chave4']) # A chave não existe, então retornará 'KeyError'"
   ]
  },
  {
   "cell_type": "markdown",
   "metadata": {},
   "source": [
    "Utilizando o **if** e **else** ou o método **.get()**, já não existe erro pois apresentamos um valor padrão se a chave não for encontrada."
   ]
  },
  {
   "cell_type": "code",
   "execution_count": null,
   "metadata": {},
   "outputs": [],
   "source": [
    "# Nesses dois casos, a chave será encontrada\n",
    "if 'chave1' in dicionario:\n",
    "    print('Achei!', dicionario['chave1'])\n",
    "else:\n",
    "    print('Essa chave ainda não foi definida')\n",
    "\n",
    "print('Item encontrado!:', dicionario.get('chave1', 'não existe'))\n",
    "\n",
    "\n",
    "# Nesse caso, retornou 'não existe' pois não foi encontrado \n",
    "print('Pesquisando item que não existe:', dicionario.get('chave4', 'não existe')) "
   ]
  },
  {
   "cell_type": "markdown",
   "metadata": {},
   "source": [
    "### 1.5.4 Dicionário de word frequency\n",
    "Agora podemos olhar atentamente para a função **build_freqs** (que se encontra no utils.py)."
   ]
  },
  {
   "cell_type": "code",
   "execution_count": null,
   "metadata": {},
   "outputs": [],
   "source": [
    "def build_freqs(tweets, ys):\n",
    "    \"\"\"Build frequencies.\n",
    "    Input:\n",
    "        tweets: a list of tweets\n",
    "        ys: an m x 1 array with the sentiment label of each tweet\n",
    "            (either 0 or 1)\n",
    "    Output:\n",
    "        freqs: a dictionary mapping each (word, sentiment) pair to its\n",
    "        frequency\n",
    "    \"\"\"\n",
    "    # Converta o array np em lista, pois o zip precisa de um iterável.\n",
    "    # O .squeeze é necessário ou a lista termina com um elemento apenas.\n",
    "    # Observe também que este é apenas um NOP se ys já for uma lista.\n",
    "    yslist = np.squeeze(ys).tolist()\n",
    "\n",
    "    # Comece com um dicionário vazio e preencha-o realizando um looping em todos os tweets\n",
    "    # Um segundo looping também será feito em todas as palavras processadas de cada tweet\n",
    "    freqs = {}\n",
    "    for y, tweet in zip(yslist, tweets):\n",
    "        for word in process_tweet(tweet):\n",
    "            pair = (word, y)\n",
    "            if pair in freqs:\n",
    "                freqs[pair] += 1\n",
    "            else:\n",
    "                freqs[pair] = 1    \n",
    "    return freqs\n",
    "\n",
    "    # Este é apenas um outro modo de realizar os mesmos loops, substituindo o if e else pelo método .get, como já visto.\n",
    "    for y, tweet in zip(yslist, tweets):\n",
    "        for word in process_tweet(tweet):\n",
    "            pair = (word, y)\n",
    "            freqs[pair] = freqs.get(pair, 0) + 1"
   ]
  },
  {
   "cell_type": "markdown",
   "metadata": {},
   "source": [
    "O par **(word, y)** dirá respeito a uma **chave**, sendo **word** um elemento do tweet processado e **y** um integer, '1' para positivo e '0' para negativo. No dicionário, a **chave** (key) dirá respeito ao elemento word, e seu **valor** (value) corresponderá ao número de aparecimentos no corpus inteiro. Ao longo dos loopings, mais tweets e seus elementos vão sendo analisados e as frequências vão aumentando. Vamos observar alguns exemplos para entender melhor o resultado final:\n",
    "\n",
    "```\n",
    "# \"folowfriday\" aparece \"25 vezes\" nos tweets \"positivos\"\n",
    "('followfriday', 1.0): 25\n",
    "\n",
    "# \"shame\" aparece \"19 vezes\" nos tweets \"negativos\"\n",
    "('shame', 0.0): 19\n",
    "```"
   ]
  },
  {
   "cell_type": "markdown",
   "metadata": {},
   "source": [
    "Agora que já compreendemos melhor como realizar o cálculo de frequências e como guardar em um dicionário, vamos avançar mais um passo!\n",
    "\n",
    "Como já temos os dicionários e seus elementos (**word**, **y** e **frequência**), agora basta **alimentar a nossa lista de tweets e etiquetas**."
   ]
  },
  {
   "cell_type": "code",
   "execution_count": null,
   "metadata": {},
   "outputs": [],
   "source": [
    "freqs = build_freqs(tweets, labels) # Vamos utilizar a função para criar os dicionários em 'freqs'\n",
    "print(f'type(freqs) = {type(freqs)}') # Vamos checar qual o _data type_ da variável 'freqs'\n",
    "print(f'len(freqs) = {len(freqs)}') # Vamos checar o tamanho do dicionário"
   ]
  },
  {
   "cell_type": "code",
   "execution_count": null,
   "metadata": {},
   "outputs": [],
   "source": [
    "print(freqs) # E agora um print de todo o dicionário"
   ]
  },
  {
   "cell_type": "markdown",
   "metadata": {},
   "source": [
    "### 1.5.5 Tabela de contagem de palavras\n",
    "Vamos escolher algumas palavras que gostaríamos de visualizar. Primeiro vamos indicá-las em uma lista. Criamos uma segunda lista que será a **representação de nossa tabela de contagem de palavras**."
   ]
  },
  {
   "cell_type": "code",
   "execution_count": 39,
   "metadata": {},
   "outputs": [
    {
     "data": {
      "text/plain": [
       "[['happi', 211, 25],\n",
       " ['merri', 1, 0],\n",
       " ['nice', 98, 19],\n",
       " ['good', 238, 101],\n",
       " ['bad', 18, 73],\n",
       " ['sad', 5, 123],\n",
       " ['mad', 4, 11],\n",
       " ['best', 65, 22],\n",
       " ['pretti', 20, 15],\n",
       " ['❤', 29, 21],\n",
       " [':)', 3568, 2],\n",
       " [':(', 1, 4571],\n",
       " ['😒', 1, 3],\n",
       " ['😬', 0, 2],\n",
       " ['😄', 5, 1],\n",
       " ['😍', 2, 1],\n",
       " ['♛', 0, 210],\n",
       " ['song', 22, 27],\n",
       " ['idea', 26, 10],\n",
       " ['power', 7, 6],\n",
       " ['play', 46, 48],\n",
       " ['magnific', 2, 0]]"
      ]
     },
     "execution_count": 39,
     "metadata": {},
     "output_type": "execute_result"
    }
   ],
   "source": [
    "keys = ['happi', 'merri', 'nice', 'good', 'bad', 'sad', 'mad', 'best', 'pretti',\n",
    "        '❤', ':)', ':(', '😒', '😬', '😄', '😍', '♛',\n",
    "        'song', 'idea', 'power', 'play', 'magnific']\n",
    "\n",
    "# lista representando nossa tabela de contagem de palavras\n",
    "data = [] # cada elemento consistirá de uma sub-lista com esse padrão: [<word>, <positive_count>, <negative_count>]\n",
    "\n",
    "\n",
    "for word in keys: # para cada elemento em nossa lista de palavras\n",
    "\n",
    "    positivas = 0\n",
    "    negativas = 0\n",
    "    \n",
    "    if (word, 1) in freqs: # se word for \"1\" no dicionário de frequências\n",
    "        positivas = freqs[(word, 1)]\n",
    "        \n",
    "    # retrieve number of negative counts\n",
    "    if (word, 0) in freqs: # se word for \"0\" no dicionário de frequências\n",
    "        negativas = freqs[(word, 0)]\n",
    "        \n",
    "    # append the word counts to the table\n",
    "    data.append([word, positivas, negativas])\n",
    "    \n",
    "data"
   ]
  },
  {
   "cell_type": "markdown",
   "metadata": {},
   "source": [
    "Percebeu como a palavra \"happi\" (_lemma_ de _happy_) apareceu muito mais em sentenças positivas do que em negativas? Vamos utilizar um gráfico de dispersão (_scatter plot_) para visualizar a tabela que criamos. Nesse caso, a contagem não será crua (_raw_) mas sim indicada em escala logarítmica (para um entendimento mais palpável das medidas). A linha vermelha marca a fronteira entre positivo e negativo. As palavras mais **marginais** são as mais **positivas/negativas** e as **centrais** são **neutras**."
   ]
  },
  {
   "cell_type": "code",
   "execution_count": 46,
   "metadata": {},
   "outputs": [
    {
     "data": {
      "image/png": "[encoded data removed]",
      "text/plain": [
       "<Figure size 576x576 with 1 Axes>"
      ]
     },
     "metadata": {
      "needs_background": "light"
     },
     "output_type": "display_data"
    }
   ],
   "source": [
    "fig, ax = plt.subplots(figsize = (8, 8))\n",
    "\n",
    "x = np.log([x[1] + 1 for x in data]) # converte os dados crus de \"x\" em escala logarítmica e +1 para não ocasionar log(0)\n",
    "y = np.log([x[2] + 1 for x in data]) # igualmente para \"y\"\n",
    "\n",
    "ax.scatter(x, y) # plota um pontinho para cada palavra\n",
    "\n",
    "plt.xlabel(\"Log Positive count\") # axis labels\n",
    "plt.ylabel(\"Log Negative count\")\n",
    "\n",
    "for i in range(0, len(data)): # Adiciona as palavras na mesma posição dos pontinhos\n",
    "    ax.annotate(data[i][0], (x[i], y[i]), fontsize=14)\n",
    "\n",
    "ax.plot([0, 9], [0, 9], color = 'red') # Plota a linha vermelha que vai de \"0\" a \"9\"\n",
    "plt.show()"
   ]
  },
  {
   "cell_type": "markdown",
   "metadata": {},
   "source": [
    "O emoticon \":)\", em nossa lista **[':)', 3568, 2]**, por ter uma contagem muito superior às outras palavras e em relação às próprias sentenças negativas, pôde ser melhor visualizado através da contagem logarítmica. O mesmo diz respeito ao emoticon \":(\". \n",
    "\n",
    "Qual será o significado desse emoticon de coroa? (no gráfico representado por um quadrado)\n",
    "\n",
    "Finalmente! Realizamos a análise de sentimentos de cada sentença, contamos quantas vezes as nossas palavras (words) aparecem em cada tipo de sentenças (positivas e negativas) e representamos por meio de um gráfico utilizando escala logarítmica.\n",
    "\n",
    "Com o passar do tempo e através da prática, vai tudo se tornando cada vez mais compreensível! Vamos avançar?"
   ]
  }
 ],
 "metadata": {
  "kernelspec": {
   "display_name": "Python 3",
   "language": "python",
   "name": "python3"
  },
  "language_info": {
   "codemirror_mode": {
    "name": "ipython",
    "version": 3
   },
   "file_extension": ".py",
   "mimetype": "text/x-python",
   "name": "python",
   "nbconvert_exporter": "python",
   "pygments_lexer": "ipython3",
   "version": "3.9.0"
  },
  "varInspector": {
   "cols": {
    "lenName": 16,
    "lenType": 16,
    "lenVar": 40
   },
   "kernels_config": {
    "python": {
     "delete_cmd_postfix": "",
     "delete_cmd_prefix": "del ",
     "library": "var_list.py",
     "varRefreshCmd": "print(var_dic_list())"
    },
    "r": {
     "delete_cmd_postfix": ") ",
     "delete_cmd_prefix": "rm(",
     "library": "var_list.r",
     "varRefreshCmd": "cat(var_dic_list()) "
    }
   },
   "types_to_exclude": [
    "module",
    "function",
    "builtin_function_or_method",
    "instance",
    "_Feature"
   ],
   "window_display": false
  }
 },
 "nbformat": 4,
 "nbformat_minor": 4
}
