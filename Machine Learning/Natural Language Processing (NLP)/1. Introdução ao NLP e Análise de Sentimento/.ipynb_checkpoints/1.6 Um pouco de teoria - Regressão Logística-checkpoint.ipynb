{
 "cells": [
  {
   "cell_type": "markdown",
   "metadata": {},
   "source": [
    "# 1.6 Um pouco de teoria - Regressão Logística\n",
    "Se lembra que no aprendizado supervisionado de máquina (supervised machine learning) temos **X** features e **Y** labels? E através desses dois elementos que baseado nos dados disponíveis, realizamos **predições** através de **funções** que possuem **alguns parâmetros** para então produzir um **Output**. \n",
    "\n",
    "Separando uma porcentagem do _dataset_ para servir de **teste**, podemos medir o quão distante a **label predita** está da **label real**. Podemos então reduzir o **custo** (cost) ao atualizar os **parâmetros**.\n",
    "\n",
    "Uma dessas \"funções que possuem alguns parâmetros para produzir um output\" (ou **algoritmo**) é a **regressão logística** (logistic regression), que faz uso da função sigmoide para realizar o output de uma **probabilidade entre 0 e 1**.\n",
    "\n",
    "A seguir, podemos conhecer a função **sigmoide** que classifica a regressão logística **h** e o gráfico para representar seu efeito:\n",
    "\n",
    "| Função | Gráfico |\n",
    "|:-:|:-:|\n",
    "|<img src=\"images/logisticregression.png\">|<img src=\"images/logistic-curve.png\" width=70%>|\n",
    "\n",
    "Caso não esteja familiarizado com esse tipo de função, olhe atentamente por algum tempo e procure associar cada elemento presente! Podemos ver que a função sigmoide da regressão logística **h** depende de  $\\theta^Tx^{(i)}$.\n",
    "\n",
    "$\\theta^Tx^{(i)}$ = parâmetro **Theta (θ)**, vetor de _features_ **x** sobrescrito **i**, onde \"i\" denota os _data points_. Em nosso contexto, o \"i\" denota nossos tweets.\n",
    "\n",
    "Agora veja o gráfico. O ponto zero denota o **produto escalar** de Theta Transposto **x**. A linha azul represente o movimento que à sua esquerda se aproxima do menos infinito (-∞), e á sua direita, se aproxima do mais infinito (+∞).\n",
    "\n",
    "Para a tarefa de **classificação**, um **threshold** (limite) é necessário. Geralmente o threshold é 0.5, graficamente representado pelo tracejado vermelho.\n",
    "\n",
    "O **threshold** corresponde ao produto escalar entre **Theta Transposto** e **x = 0**. Sempre que o produto escalar for maior ou igual a zero, a predição é positiva. Quando este for menor que zero, a predição é negativa.\n"
   ]
  },
  {
   "cell_type": "markdown",
   "metadata": {},
   "source": [
    "\n",
    "### 1.6.1 Exemplo no contexto de tweets e análise de sentimento\n",
    "Vamos tomar como exemplo o tweet _\"corre que o @dantebarross está ensinando NLP!\"_. Ao pré-processá-lo, teríamos: **[corr, est, ensin, nlp]**, ou seja, stop words, nickname e pontuações deletadas, e tudo em lowercase e stemmizado.\n",
    "\n",
    "Com isso, podemos **extrair _features_** através de um **dicionário de frequências** e processar cada token em um vetor como **x^(i) = [1, 3476, 245]**, semelhante ao já visto no guia anterior (um bias, e duas _features_ que são a soma de frequências positivas e negativas).\n",
    "\n",
    "A soma de frequências positivas e negativas é relacinada a todas as palavras dos tweets processados, **θ = [0.00003, 0.00150, -0.00120].\n",
    "\n",
    "Com esses dados, já podemos obter o **valor da função sigmóide**, **4.92**.\n",
    "\n",
    "| Features extraídas (input) e Theta θ (peso do parâmetro)| Função sigmóide |\n",
    "|:-:|:-:|\n",
    "|<img src=\"images/x e theta.png\">|<img src=\"images/função sigmoide.png\" width=80%>|\n",
    "\n",
    "Através da notação da regressão logística, podemos então **treinar um fator de peso (weight) Theta**, para que nossas predições sejam cada vez mais certeiras, e é isso que faremos no próximo guia!"
   ]
  }
 ],
 "metadata": {
  "kernelspec": {
   "display_name": "Python 3",
   "language": "python",
   "name": "python3"
  },
  "language_info": {
   "codemirror_mode": {
    "name": "ipython",
    "version": 3
   },
   "file_extension": ".py",
   "mimetype": "text/x-python",
   "name": "python",
   "nbconvert_exporter": "python",
   "pygments_lexer": "ipython3",
   "version": "3.9.0"
  },
  "varInspector": {
   "cols": {
    "lenName": 16,
    "lenType": 16,
    "lenVar": 40
   },
   "kernels_config": {
    "python": {
     "delete_cmd_postfix": "",
     "delete_cmd_prefix": "del ",
     "library": "var_list.py",
     "varRefreshCmd": "print(var_dic_list())"
    },
    "r": {
     "delete_cmd_postfix": ") ",
     "delete_cmd_prefix": "rm(",
     "library": "var_list.r",
     "varRefreshCmd": "cat(var_dic_list()) "
    }
   },
   "types_to_exclude": [
    "module",
    "function",
    "builtin_function_or_method",
    "instance",
    "_Feature"
   ],
   "window_display": false
  }
 },
 "nbformat": 4,
 "nbformat_minor": 4
}
