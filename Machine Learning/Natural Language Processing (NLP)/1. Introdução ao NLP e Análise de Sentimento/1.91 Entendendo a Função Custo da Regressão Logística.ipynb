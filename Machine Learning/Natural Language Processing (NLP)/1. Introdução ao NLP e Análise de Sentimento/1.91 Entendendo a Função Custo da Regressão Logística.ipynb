{
 "cells": [
  {
   "cell_type": "markdown",
   "metadata": {},
   "source": [
    "# 1.91 Entendendo a Função Custo da Regressão Logística\n",
    "Vamos entender melhor o que é essa **função custo** quando trabalhamos com Regressão Logística. O que acontece quando predizemos a _label_ (etiqueta) verdadeira? E quando predizemos a falsa?\n",
    "\n",
    "| Equação da Função Custo|\n",
    "|:-:|\n",
    "|<img src='images/função custo.png' width=100%>\n",
    "\n",
    "Essa é a **equação da função custo**. Um pouco assustadora? Na verdade pode ser entendida de uma forma simples, vamos nos aprofundar em cada um seus componentes."
   ]
  },
  {
   "cell_type": "markdown",
   "metadata": {},
   "source": [
    "### No <span style=\"color:green\">**retângulo verde**</span>:\n",
    "- podemos encontrar a **soma da variável \"m**, ou seja, o número total de amostras de treino em seu _training dataset_ (como visto no guia anterior). Iremos realizar então a soma do custo de cada exemplo de treino. \n",
    "- o primeiro elemento, $-\\frac{1}{m}$, indica que quando combinado com a **soma**, será uma espécie de **média**. O sinal de **\"menos\"** indica que o total será sempre **positivo**.\n",
    "\n",
    "\n",
    "Dentro das chaves (_brackets_) encontram-se duas linhas, **dois termos** que são mesclados através de uma soma.\n",
    "\n",
    "### Na <span style=\"color:red\">**linha vermelha**</span>:\n",
    "- temos o produto de **y** sobrescrito **i**, que é a **etiqueta** (_label_) de cada exemplo de treino;\n",
    "- essa etiqueta é então **multiplicada** pelo **log** da predição;\n",
    "- essa **predição** é a função da **regressão logística** $h(x ^i , \\theta)$ aplicada a cada exemplo de treino.\n",
    "    - Se a etiqueta for \"0\", a função **h** poderá retornar qualquer valor, portanto todo o termo será **zero**.\n",
    "    - Se a etiqueta for \"1\" e a predição for **próxima de 1**, o log será próximo a zero (**log de 1 é zero!**);\n",
    "    - Se a etiqueta for \"1\" e a predição for **próxima de 0**, o termo explode e se aproxima do infinito negativo $-\\infty$.\n",
    "    \n",
    "<img src='images/tabela cost function1.png' width=70%>\n",
    "        \n",
    "É então que percebemos que:\n",
    "1. quando o **valor da predição for próximo ao da etiqueta** (_label_), a perda (_loss_) é **pequena**;\n",
    "2. quando a **predição e a etiqueta divergem**, o custo total (_overall cost_) **sobe**.\n",
    "\n",
    "\n",
    "### Na  <span style=\"color:blue\">**linha azul**</span>:\n",
    "Nesse caso,\n",
    "- se a etiqueta $y^i$ for \"1\", o termo **1 - y** será \"0\". Portanto multiplicando pelo log, **o termo inteiro resultará \"0\"**;\n",
    "- se a etiqueta for \"0\" e a função da regressão logística $h(x ^i , \\theta)$ for próxima a zero,  o produto será **próximo a zero**;\n",
    "- se a etiqueta for \"0\" e a predição próxima a \"1\", o **log** explode e se aproxima do infinito negativo $-\\infty$.\n",
    "\n",
    "<img src='images/tabela cost function2.png' width=70%>"
   ]
  },
  {
   "cell_type": "markdown",
   "metadata": {},
   "source": [
    "### 1.91.1 Intuições\n",
    "Analisando atentamente os componentes dessa equação da função custo, podemos concluir algumas coisas:\n",
    "1. Existe um termo na função custo que será relevante quando a etiqueta for **1** (linha vermelha);\n",
    "2. E outro que será relevante quando a etiqueta for **0** (linha azul).\n",
    "3. Em cada um desses termos estamos pegando o **log** de um **valor entre zero e um**;\n",
    "4. Esses **logarítmos** sempre retornam um **valor negativo**, e o sinal de \"menos\", indicado no quadrado verde, torna o custo total (_overall cost_) sempre **positivo**.\n",
    "\n",
    "\n",
    "### - Na predição, o que acontece com a perda (_loss_) quando a etiqueta é 1?\n",
    "<img src='images/predição x custo.png' width=30%>\n",
    "\n",
    "No gráfico, podemos ver:\n",
    "1. no eixo horizontal o **valor de predição no eixo horizontal**;\n",
    "2. no eixo vertical o **custo** associado a um único exemplo de treinamento.\n",
    "\n",
    "\n",
    "**O J(𝜃) se reduz ao log negativo $h(x^{(i)}, \\theta)$**. \n",
    "1. Quando a predição é próxima a \"1\", a perda é próxima a \"0\". Isso acontece porque a predição converge bem com a etiqueta;\n",
    "2. Quando a predição é próxima a \"0\", a perda se aproxima ao infinito (negativo). Isso acontece porque a predição diverge muito com a etiqueta.\n",
    "\n",
    "### - Na predição, o que acontece com a perda (_loss_) quando a etiqueta é 0?\n",
    "\n",
    "<img src='images/predição x custo2.png' width=30%>\n",
    "\n",
    "Os eixos são os mesmos do gráfico anterior, porém nesse caso, **o J(𝜃) se reduz ao log negativo $(1 - h(x^i, \\theta))$**. \n",
    "1. Quando a predição é próxima a \"0\", a perda é próxima a \"0\";\n",
    "2. Quando a predição é próxima a \"1\", a perda se aproxima ao infinito (positivo).\n",
    "\n",
    "<img src='images/predição x custo3.png' width=70%>\n",
    "\n",
    "Portanto, esperamos que:\n",
    "1. quando a etiqueta for \"1\", a predição $h(x^{(i)}, \\theta)$ seja próxima de \"1\" e a perda próxima de \"0\";\n",
    "2. quando a etiqueta for \"0\", a predição $(1-h(x^{(i)}, \\theta))$ seja próxima de \"0\", e a perda próxima de \"0\".\n",
    "\n",
    "E se a etiqueta for igual à predição? **O custo será \"0\"**! Perfeito, agora já compreendemos melhor essa tal função custo. Encerramos por aqui o assunto **Regressão Logística**!"
   ]
  }
 ],
 "metadata": {
  "kernelspec": {
   "display_name": "Python 3",
   "language": "python",
   "name": "python3"
  },
  "language_info": {
   "codemirror_mode": {
    "name": "ipython",
    "version": 3
   },
   "file_extension": ".py",
   "mimetype": "text/x-python",
   "name": "python",
   "nbconvert_exporter": "python",
   "pygments_lexer": "ipython3",
   "version": "3.9.0"
  },
  "varInspector": {
   "cols": {
    "lenName": 16,
    "lenType": 16,
    "lenVar": 40
   },
   "kernels_config": {
    "python": {
     "delete_cmd_postfix": "",
     "delete_cmd_prefix": "del ",
     "library": "var_list.py",
     "varRefreshCmd": "print(var_dic_list())"
    },
    "r": {
     "delete_cmd_postfix": ") ",
     "delete_cmd_prefix": "rm(",
     "library": "var_list.r",
     "varRefreshCmd": "cat(var_dic_list()) "
    }
   },
   "types_to_exclude": [
    "module",
    "function",
    "builtin_function_or_method",
    "instance",
    "_Feature"
   ],
   "window_display": false
  }
 },
 "nbformat": 4,
 "nbformat_minor": 4
}
