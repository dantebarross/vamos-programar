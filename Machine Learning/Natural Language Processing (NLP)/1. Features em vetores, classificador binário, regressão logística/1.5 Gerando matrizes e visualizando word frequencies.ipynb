{
 "cells": [
  {
   "cell_type": "markdown",
   "metadata": {},
   "source": [
    "# 1.5 Gerando matrizes e visualizando word frequencies\n",
    "Nos guias anteriores, vimos como são feitas as matrizes de sentenças. Cada um dos tweets tinha três parâmetros correspondentes, o bias, a soma das frequências positivas e a soma das frequências negativas (exemplo: [1, 4, 2]).\n",
    "\n",
    "Exemplificando, a matriz de uma lista de sentenças então ficaria de modo semelhante a esse: \n",
    "[[1, 3, 5],\n",
    "[1, 0, 2],\n",
    "[1, 6, 5]]\n",
    "\n",
    "Cada linha corresponde aos três features de cada sentença, porém o que separa as linhas é a vírgula. Sendo assim, é apensa uma questão de organização visual a linearização da matriz.\n",
    "\n",
    "Resumindo, o que vamos ver agora é algo parecido com:\n",
    "```\n",
    "freqs = build_freqs(tweets,labels) # Cria o dicionário de frequências usando a função build_freqs()\n",
    "X = np.zeros((m,3)) # Matriz \"x\" inicia zerada e possui três parâmetros [0, 0, 0]\n",
    "for i in range(m): Para cada tweet...\n",
    "    p_tweet = process_tweet(tweets[i]) # Pré-processar (tokenização, stop words, stem, etc)\n",
    "    x[i,:] = extract_features(p_tweet,freqs) # Extrai as features somando as frequências positivas e negativas\n",
    "```\n",
    "\n",
    "Agora nós vamos montar a função **build_freqs()** para nos auxiliar no cálculo das **word frequencies**, e então visualizaremos isso no _dataset_."
   ]
  },
  {
   "cell_type": "code",
   "execution_count": 2,
   "metadata": {},
   "outputs": [
    {
     "name": "stderr",
     "output_type": "stream",
     "text": [
      "[nltk_data] Downloading package stopwords to\n",
      "[nltk_data]     C:\\Users\\Dante\\AppData\\Roaming\\nltk_data...\n",
      "[nltk_data]   Package stopwords is already up-to-date!\n"
     ]
    },
    {
     "ename": "ImportError",
     "evalue": "cannot import name 'process_tweet' from 'utils' (c:\\users\\dante\\appdata\\local\\programs\\python\\python39\\lib\\site-packages\\utils\\__init__.py)",
     "output_type": "error",
     "traceback": [
      "\u001b[1;31m---------------------------------------------------------------------------\u001b[0m",
      "\u001b[1;31mImportError\u001b[0m                               Traceback (most recent call last)",
      "\u001b[1;32m<ipython-input-2-bf52495fea7b>\u001b[0m in \u001b[0;36m<module>\u001b[1;34m\u001b[0m\n\u001b[0;32m      8\u001b[0m \u001b[1;33m\u001b[0m\u001b[0m\n\u001b[0;32m      9\u001b[0m \u001b[1;31m# import our convenience functions\u001b[0m\u001b[1;33m\u001b[0m\u001b[1;33m\u001b[0m\u001b[1;33m\u001b[0m\u001b[0m\n\u001b[1;32m---> 10\u001b[1;33m \u001b[1;32mfrom\u001b[0m \u001b[0mutils\u001b[0m \u001b[1;32mimport\u001b[0m \u001b[0mprocess_tweet\u001b[0m\u001b[1;33m,\u001b[0m \u001b[0mbuild_freqs\u001b[0m\u001b[1;33m\u001b[0m\u001b[1;33m\u001b[0m\u001b[0m\n\u001b[0m",
      "\u001b[1;31mImportError\u001b[0m: cannot import name 'process_tweet' from 'utils' (c:\\users\\dante\\appdata\\local\\programs\\python\\python39\\lib\\site-packages\\utils\\__init__.py)"
     ]
    }
   ],
   "source": [
    "import nltk                                  # Biblioteca de NLP\n",
    "from nltk.corpus import twitter_samples      # Corpus de tweets\n",
    "import matplotlib.pyplot as plt              # Visualização gráfica\n",
    "import numpy as np                           # Biblioteca de Ciência da Computação e operações de matriz\n",
    "\n",
    "# download the stopwords for the process_tweet function\n",
    "nltk.download('stopwords')\n",
    "\n",
    "# import our convenience functions\n",
    "from utils import process_tweet, build_freqs\n",
    "\n",
    "\n",
    "# select the lists of positive and negative tweets\n",
    "all_positive_tweets = twitter_samples.strings('positive_tweets.json')\n",
    "all_negative_tweets = twitter_samples.strings('negative_tweets.json')\n",
    "\n",
    "# concatenate the lists, 1st part is the positive tweets followed by the negative\n",
    "tweets = all_positive_tweets + all_negative_tweets\n",
    "\n",
    "# let's see how many tweets we have\n",
    "print(\"Number of tweets: \", len(tweets))"
   ]
  }
 ],
 "metadata": {
  "kernelspec": {
   "display_name": "Python 3",
   "language": "python",
   "name": "python3"
  },
  "language_info": {
   "codemirror_mode": {
    "name": "ipython",
    "version": 3
   },
   "file_extension": ".py",
   "mimetype": "text/x-python",
   "name": "python",
   "nbconvert_exporter": "python",
   "pygments_lexer": "ipython3",
   "version": "3.9.0"
  },
  "varInspector": {
   "cols": {
    "lenName": 16,
    "lenType": 16,
    "lenVar": 40
   },
   "kernels_config": {
    "python": {
     "delete_cmd_postfix": "",
     "delete_cmd_prefix": "del ",
     "library": "var_list.py",
     "varRefreshCmd": "print(var_dic_list())"
    },
    "r": {
     "delete_cmd_postfix": ") ",
     "delete_cmd_prefix": "rm(",
     "library": "var_list.r",
     "varRefreshCmd": "cat(var_dic_list()) "
    }
   },
   "types_to_exclude": [
    "module",
    "function",
    "builtin_function_or_method",
    "instance",
    "_Feature"
   ],
   "window_display": false
  }
 },
 "nbformat": 4,
 "nbformat_minor": 4
}
