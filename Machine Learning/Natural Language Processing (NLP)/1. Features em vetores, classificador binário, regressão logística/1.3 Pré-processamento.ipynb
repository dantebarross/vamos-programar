{
 "cells": [
  {
   "cell_type": "markdown",
   "metadata": {},
   "source": [
    "### 1.3 Pré-processamento\n",
    "Vamos entender alguns dos maiores conceitos de pré-processamento de dados em NLP (pré-processamento de texto): \n",
    "1. Stop words;\n",
    "2. Stemming (stemização);\n",
    "3. Lowercasing (caixa baixa);\n",
    "4. Pontuação;\n",
    "5. Lemmatização.\n",
    "\n",
    "#### 1.3.1 Stop words e Pontuação\n",
    "As **stop words** são tokens (agora vamos chamar palavras de **tokens**, incluindo pontuações) que não acrescentam para o significado geral de um input textual. Vamos a um exemplo.\n",
    "\n",
    "_\"O macaco gosta de banana e de maçã!!\"_\n",
    "\n",
    "Na sentença acima, podemos remover as stop words (cada língua tem a sua, e são basicamente palavras que **não adicionam significado semântico** para a frase). Logo em seguida, podemos também remover as **pontuações** (caso esse pré-processamento faça sentido), pois o que nos interessa são as palavras com significado. Sendo assim:\n",
    "\n",
    "| Original | \"O macaco gosta de banana e de maçã!!\" |\n",
    "|:-:|:-:|\n",
    "|Stop words| \"macaco gosta banana maçã!!\"|\n",
    "|Punctuation| \"macaco gosta banana maçã|\n",
    "\n",
    "Podemos realizar outras alterações na etapa de pré-processamento do texto. Podemos remover URLs, nomes, números de telefone, novamente, **o que fizer sentido para as intenções finais**. Em nosso caso, um analisador de sentimento SIMPLES não precisa processar nomes de pessoas, URLs, nomes de locais...\n",
    "\n",
    "#### 1.3.2 Stemming, lowercasing e lemmatization\n",
    "O **lowercasing** é o processo de transformar todos os tokens em caixa baixa. Isso reduz bastante a quantidade de vocabulários e ajuda a diminuir diferenças entre formas muito parecidas, evitando que \"Macaco\" seja diferenciado de \"macaco\" (há como calcular similaridade entre palavras caso o lowercasing não faça sentido).\n",
    "\n",
    "Já o **stemming** é um conceito linguístico relacionado ao processo de reduzir palavras à sua raíz. As palavras que são mais afetadas são aquelas que possuem forma plural, flexões, gênero. Vamos a alguns exemplos.\n",
    "\n",
    "| Token original | Stemma |\n",
    "|:-:|:-:|\n",
    "| cavalo |caval|\n",
    "|cavalos |caval|\n",
    "|cavaleiros|caval|\n",
    "|andei|and\n",
    "|andar|and\n",
    "|grandão|grand|\n",
    "|felizmente|feliz|\n",
    "\n",
    "Ao analisar a tabela, surgem algumas questões menores:\n",
    "1. cavalo, cavala e cavaleiro, mesmo tendo significados diferentes agora são o mesmo token. Isso dá problema?\n",
    "2. existem outros tipos de stemming?\n",
    "\n",
    "E as respostas: sim, pode dar problema. Mas apenas em alguns casos. E sim, existem outros tipos de stemming! Outros algoritmos de stemming podem não transformar o advérbio \"felizmente\" em \"feliz\", por exemplo.\n",
    "\n",
    "Você também pode ter se deparado com o termo **lemmatization**. Não confunda ele com stemming. A **lematização** é mais conservadora, transformando tokens plurais em singulares, femininos em masculinos, e formas flexionadas em não-flexionadas (como verbos no infinitivo). **A lematização é utilizada quando precisamos reconhecer o Part-of-Speech (POS) / Classe morfológica dos tokens**."
   ]
  }
 ],
 "metadata": {
  "kernelspec": {
   "display_name": "Python 3",
   "language": "python",
   "name": "python3"
  },
  "language_info": {
   "codemirror_mode": {
    "name": "ipython",
    "version": 3
   },
   "file_extension": ".py",
   "mimetype": "text/x-python",
   "name": "python",
   "nbconvert_exporter": "python",
   "pygments_lexer": "ipython3",
   "version": "3.9.0"
  },
  "varInspector": {
   "cols": {
    "lenName": 16,
    "lenType": 16,
    "lenVar": 40
   },
   "kernels_config": {
    "python": {
     "delete_cmd_postfix": "",
     "delete_cmd_prefix": "del ",
     "library": "var_list.py",
     "varRefreshCmd": "print(var_dic_list())"
    },
    "r": {
     "delete_cmd_postfix": ") ",
     "delete_cmd_prefix": "rm(",
     "library": "var_list.r",
     "varRefreshCmd": "cat(var_dic_list()) "
    }
   },
   "types_to_exclude": [
    "module",
    "function",
    "builtin_function_or_method",
    "instance",
    "_Feature"
   ],
   "window_display": false
  }
 },
 "nbformat": 4,
 "nbformat_minor": 4
}
