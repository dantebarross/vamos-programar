{
 "cells": [
  {
   "cell_type": "markdown",
   "metadata": {},
   "source": [
    "# 2. Probabilidade e Teorema de Bayes\n",
    "Bem vindo ao segundo módulo do guia de NLP. Entraremos agora no campo da **probabilidade**, em específico utilizando os conceitos do **teorema de Bayes**, que descreve a probabilidade de um evento baseado em conhecimentos anteriores, relacionados ao evento.\n",
    "\n",
    "Essa parte é importante para o NLP e é **muito útil também para outras áreas**, que costumam apoiar-se no mesmo teorema em seus estudos probabilísticos. Recomendo olhar a página do Wikipédia sobre isso: https://pt.wikipedia.org/wiki/Teorema_de_Bayes\n",
    "\n",
    "Ao longo desse segundo módulo vamos:\n",
    "1. Entender o que são **probabilidades**, como elas funcionam e como podemos expressar isso **matematicamente**;\n",
    "2. Derivar o teorema de Bayes a partir do conceito de **probabilidade condicionada**;\n",
    "3. Realizar **análise de sentimento em tweets**. Será que vamos obter um resultado melhor que a Regressão Logística?"
   ]
  },
  {
   "cell_type": "markdown",
   "metadata": {},
   "source": [
    "2.1 Introdução\n",
    "\n",
    "Imaginemos um corpus extensivo de tweets, categorizados em \"Positivo\" **OU** \"Negativo\""
   ]
  }
 ],
 "metadata": {
  "kernelspec": {
   "display_name": "Python 3",
   "language": "python",
   "name": "python3"
  },
  "language_info": {
   "codemirror_mode": {
    "name": "ipython",
    "version": 3
   },
   "file_extension": ".py",
   "mimetype": "text/x-python",
   "name": "python",
   "nbconvert_exporter": "python",
   "pygments_lexer": "ipython3",
   "version": "3.9.0"
  },
  "varInspector": {
   "cols": {
    "lenName": 16,
    "lenType": 16,
    "lenVar": 40
   },
   "kernels_config": {
    "python": {
     "delete_cmd_postfix": "",
     "delete_cmd_prefix": "del ",
     "library": "var_list.py",
     "varRefreshCmd": "print(var_dic_list())"
    },
    "r": {
     "delete_cmd_postfix": ") ",
     "delete_cmd_prefix": "rm(",
     "library": "var_list.r",
     "varRefreshCmd": "cat(var_dic_list()) "
    }
   },
   "types_to_exclude": [
    "module",
    "function",
    "builtin_function_or_method",
    "instance",
    "_Feature"
   ],
   "window_display": false
  }
 },
 "nbformat": 4,
 "nbformat_minor": 4
}
