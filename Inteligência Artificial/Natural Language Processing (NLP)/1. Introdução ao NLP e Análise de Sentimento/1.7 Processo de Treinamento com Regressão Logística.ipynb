{
 "cells": [
  {
   "cell_type": "markdown",
   "metadata": {},
   "source": [
    "# 1.7 Treinando Regressão Logística\n",
    "Agora vamos ver como se constrói um algoritmo que nos ajude a chegar na variável Theta θ, vista no guia anterior. Nós vamos **treinar um classificador de regressão logística**, e para isso acontecer, precisamos realizar esse procedimento repetidas vezes até que o **custo (cost)** seja minimizado, ou seja, até que o algoritmo alcance um nível esperado de eficácia.\n",
    "\n",
    "No primeiro gráfico, podemos verificar as **relações** entre o primeiro e o segundo Theta (correspondente ao primeiro e o último treinamento) ao longo de suas iterações. O segundo gráfico mostra o **movimento de redução da função custo** através das iterações!\n",
    "\n",
    "| 1º θ e 2º θ | \n",
    "|:-:|\n",
    "|<img src='images/training LR theta.png' width=70%>|\n",
    "\n",
    "| Custo/Iteração |\n",
    "|:-:|\n",
    "<img src='images/training LR cost-iteration.png' width=70%>|\n",
    "\n",
    "Os pontos verdes indicam as **iterações** que aconteceram. No primeiro, ela começa nas margens, até chegar ao ponto central. No segundo, ela acompanha a redução da função custo através das iterações. O último ponto (o amarelo) representa o momento em que chegamos a uma **solução ótima** (optimum cost), ou seja, o ponto em que o treinamento (otimização) de regressão logística alcançou o nível esperado, o fim do treinamento.\n",
    "\n",
    "Então podemos montar o processo desde o começo:\n",
    "1. iniciar o **Vetor de Parâmetros Theta θ** (coleção de parâmetros, que no fim são números e formam um vetor);\n",
    "2. uso da **função logística h = h(X,θ)** para chegar a valores das observações requeridas (seja uma classificação ou uma predição);\n",
    "3. cálculo do **gradiente da sua função custo** (cost function) (vamos ver o que é gradiente mais pra frente);\n",
    "4. atualizar os parâmetros;\n",
    "5. computar o custo J(θ) para ver se precisará de mais iterações (ou se alcançou o máximo possível).\n",
    "\n",
    "A quinta (e última etapa), que diz respeito à computação do custo, utiliza o algorítmo **Gradiente Descendente** (gradient descent), que encontra valores nos parâmetros que minimizem a função custo **J(θ)**. Caso necessário, serão feitas novas iterações e mudanças nos parâmetros. \n",
    "\n",
    "Por fim, teremos um novo Theta θ, ou seja, evoluímos o nosso Theta inicial para um classificador eficaz. Ao colocar o Theta θ em uma função sigmóide (sigmoid function, que transforma o valor em um número entre 0 e 1), por fim obterá um bom classificador.\n",
    "\n",
    "<img src='images/training logistic regression.png' width=50%>\n"
   ]
  }
 ],
 "metadata": {
  "kernelspec": {
   "display_name": "Python 3",
   "language": "python",
   "name": "python3"
  },
  "language_info": {
   "codemirror_mode": {
    "name": "ipython",
    "version": 3
   },
   "file_extension": ".py",
   "mimetype": "text/x-python",
   "name": "python",
   "nbconvert_exporter": "python",
   "pygments_lexer": "ipython3",
   "version": "3.9.0"
  },
  "varInspector": {
   "cols": {
    "lenName": 16,
    "lenType": 16,
    "lenVar": 40
   },
   "kernels_config": {
    "python": {
     "delete_cmd_postfix": "",
     "delete_cmd_prefix": "del ",
     "library": "var_list.py",
     "varRefreshCmd": "print(var_dic_list())"
    },
    "r": {
     "delete_cmd_postfix": ") ",
     "delete_cmd_prefix": "rm(",
     "library": "var_list.r",
     "varRefreshCmd": "cat(var_dic_list()) "
    }
   },
   "types_to_exclude": [
    "module",
    "function",
    "builtin_function_or_method",
    "instance",
    "_Feature"
   ],
   "window_display": false
  }
 },
 "nbformat": 4,
 "nbformat_minor": 4
}
