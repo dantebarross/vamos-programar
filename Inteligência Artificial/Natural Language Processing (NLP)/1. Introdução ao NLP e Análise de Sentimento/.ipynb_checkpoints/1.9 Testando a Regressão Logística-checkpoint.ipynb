{
 "cells": [
  {
   "cell_type": "markdown",
   "metadata": {},
   "source": [
    "# 1.9 Testando a Regressão Logística\n",
    "Agora, vamos utilizar o nosso Theta para predizer novas entradas de dados (novos tweets). É através de novos dados que podemos verificar o que falta ao novo modelo, em quais aspectos deixa a desejar. Também vamos verificar sua acurácia.\n",
    "\n",
    "Precisaremos da **X_val** e **Y_val** (os eixos de validação, ou seja o _dataset_ de teste, que ainda não utilizamos) e do **Theta θ** (conjunto de parâmetros ótimos que conseguimos após treinar nosso modelo). Vamos então:\n",
    "1. calcular a função sigmóide de **X_val** com os parâmetros Theta;\n",
    "2. avaliar se cada valor **h** de Theta é maior ou igual ao nosso threshold (valor limite que frequentemente é **0.5**);\n",
    "3. criar vetor de valores **h** que ultrapassam (0) ou não (1) o limite. [0.2, 0.9, 0.5, 0.7] = [0, 1, 1, 1]\n",
    "4. calcular a acurácia do modelo sobre o conjunto de validação através de cada observação individual do seu _data_ de validação.\n",
    "\n",
    "<img src='images/acuracia.png' width=70%>\n",
    "\n",
    "\n",
    "Leia a parte de cima da fórmula como: se a predição do elemento (i) for equivalente ao valor de validação de (i), então = 1, ao contrário = 0.\n",
    "\n",
    "- $pred_m$ = [0, 1, 1, 0, 0]\n",
    "- $^Yval_m$ = [0, 0, 1, 1, 0]\n",
    "- $pred_m$ == $^Yval_m$ = [0, 0, 1, 0, 1]\n",
    "\n",
    "5. Basta então **somar** todas as vezes que as predições foram corretas e dividir por **m**, o número total de observações do teste de validação\n",
    "\n",
    "Desse modo, obtemos o número de vezes que nossa regressão logística acertou (classificou corretamente o tweet) nesse _dataset_ de validação. Por exemplo: Se a acurácia for **0.35**, o modelo acertou **35%** das vezes. \n",
    "\n",
    "**Resumindo**:\n",
    "\n",
    "<img src='images/resumo acuracia.png' width=50%>"
   ]
  },
  {
   "cell_type": "markdown",
   "metadata": {},
   "source": [
    "### 1.9.1 Fechamento de um ciclo\n",
    "Parece que fechamos o ciclo de desenvolvimento de nosso primeiro modelo de NLP. Por ser o primeiro, retome-o sempre que necessário. Os conceitos matemáticos podem parecer dificultosos para quem não tem contato com a matemática desde o Ensino Médio (e para os que ainda possuem **fobia de matemática**). Se você é um desses, **saiba que conseguirá tudo o que afirmar conseguir**. Através do NLP e dos algoritmos de Machine Learning/Ciência de Dados, temos exemplos super palpáveis. Se precisar, revisite os guias desse primeiro ciclo.\n",
    "\n",
    "Podemos resumir o visto anteriormente em **teoria e prática** de:\n",
    "1. pré-processamento de texto;\n",
    "2. extração _features_ do texto;\n",
    "3. uso desses _features_ para treinar um modelo;\n",
    "4. como testar esse modelo e calcular sua acurácia.\n",
    "\n",
    "\n",
    "Antes de passar para o próximo **algoritmo de classificação** (Naive Bayes), teremos mais dois guias sobre **função custo** e **gradiente**!"
   ]
  }
 ],
 "metadata": {
  "kernelspec": {
   "display_name": "Python 3",
   "language": "python",
   "name": "python3"
  },
  "language_info": {
   "codemirror_mode": {
    "name": "ipython",
    "version": 3
   },
   "file_extension": ".py",
   "mimetype": "text/x-python",
   "name": "python",
   "nbconvert_exporter": "python",
   "pygments_lexer": "ipython3",
   "version": "3.9.0"
  },
  "varInspector": {
   "cols": {
    "lenName": 16,
    "lenType": 16,
    "lenVar": 40
   },
   "kernels_config": {
    "python": {
     "delete_cmd_postfix": "",
     "delete_cmd_prefix": "del ",
     "library": "var_list.py",
     "varRefreshCmd": "print(var_dic_list())"
    },
    "r": {
     "delete_cmd_postfix": ") ",
     "delete_cmd_prefix": "rm(",
     "library": "var_list.r",
     "varRefreshCmd": "cat(var_dic_list()) "
    }
   },
   "types_to_exclude": [
    "module",
    "function",
    "builtin_function_or_method",
    "instance",
    "_Feature"
   ],
   "window_display": false
  }
 },
 "nbformat": 4,
 "nbformat_minor": 4
}
