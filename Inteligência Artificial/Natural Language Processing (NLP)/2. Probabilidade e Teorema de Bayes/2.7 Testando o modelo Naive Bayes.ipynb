{
 "cells": [
  {
   "cell_type": "markdown",
   "metadata": {},
   "source": [
    "# 2.7 Testando o modelo Naive Bayes\n",
    "Estamos agora nos encaminhando para **realizar a predição** utilizando o modelo Naive Bayes e então **utilizar o _set_ de validação** para calcular a acurácia do nosso modelo.\n",
    "\n",
    "Vamos rever como realizar essa testagem:\n",
    "1. sabemos que nosso _dataset_ foi dividido, portanto uma porcentagem dele será utilizada como **_set_ de validação**;\n",
    "2. separamos o _dataset_ de validação em $X_{val}$ (os tweets) e $Y_{val}$ (os sentimentos etiquetados);\n",
    "3. vamos implementar a **função de acurácia** para medir a performance do modelo treinado.\n",
    "    * Calculamos a pontuação de cada entrada em $X_{val}$;\n",
    "    * Avaliamos se cada pontuação é maior do que zero;\n",
    "    * Com isso, produzimos um vetor populado com \"zeros\" e \"uns\" indicando se são negativos ou positivos os tweets do _set_ de validação.\n",
    "<img src=\"images/score1.png\" width=50%>\n",
    "4. agora que temos nosso novo vetor com predições, podemos calcular a acurácia do nosso modelo pelo _set_ de validação;\n",
    "5. para fazer isso, basta comparar as predições com os valores verdadeiros no $Y_{val}$ (etiquetas verdadeiras);\n",
    "6. se os valores forem iguais, então será computado '1', se não, '0';\n",
    "7. a acurácia é calculada quando somamos todo o vetor do item 6 dividido pelo número de exemplos do _set_ de validação, igual fizemos no módulo de Regressão Logística."
   ]
  }
 ],
 "metadata": {
  "kernelspec": {
   "display_name": "Python 3",
   "language": "python",
   "name": "python3"
  },
  "language_info": {
   "codemirror_mode": {
    "name": "ipython",
    "version": 3
   },
   "file_extension": ".py",
   "mimetype": "text/x-python",
   "name": "python",
   "nbconvert_exporter": "python",
   "pygments_lexer": "ipython3",
   "version": "3.9.0"
  },
  "varInspector": {
   "cols": {
    "lenName": 16,
    "lenType": 16,
    "lenVar": 40
   },
   "kernels_config": {
    "python": {
     "delete_cmd_postfix": "",
     "delete_cmd_prefix": "del ",
     "library": "var_list.py",
     "varRefreshCmd": "print(var_dic_list())"
    },
    "r": {
     "delete_cmd_postfix": ") ",
     "delete_cmd_prefix": "rm(",
     "library": "var_list.r",
     "varRefreshCmd": "cat(var_dic_list()) "
    }
   },
   "types_to_exclude": [
    "module",
    "function",
    "builtin_function_or_method",
    "instance",
    "_Feature"
   ],
   "window_display": false
  }
 },
 "nbformat": 4,
 "nbformat_minor": 4
}
