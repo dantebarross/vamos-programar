{
 "cells": [
  {
   "cell_type": "markdown",
   "metadata": {},
   "source": [
    "# 2.5 Resumindo o já visto\n",
    "Estamos próximos de realizar o **treinamento do classificador Naive Bayes**. Existe uma diferença desse treinamento em relação ao anterior (de Regressão Logística): **não haverá gradiente descendente**. Nós apenas contaremos frequências de palavras no corpus de tweets.\n",
    "\n",
    "As etapas para treinamento de um modelo para esse projeto de Machine Learning são:\n",
    "1. **coletar os dados** para realizar o treinamento e teste do modelo (corpus de tweets separado em dois grupos);\n",
    "2. **pré-processamento**: lowercase, pontuação, URLs, nomes, stop words, stemmização, tokenização;\n",
    "3. computar o **vocabulário** de cada classe (Pos e Neg), igual fizemos no modelo de Regressão Logística;\n",
    "4. **contagem** da frequência de palavras por classe;\n",
    "5. calcular a **probabilidade condicional** utilizando a fórmula com **Laplacian Smoothing** e gerar uma nova tabela de probabilidades, para cada palavra e cada classe;\n",
    "6. obter o resultado do **lambda** para cada palavra;\n",
    "7. estimativa do **log prior**. Para calculá-lo, precisamos:\n",
    "    1. contar o número de tweets positivos + negativos;\n",
    "    2. obter o **log prior**, ou seja, o **logaritmo** da **razão** do número de tweets positivos e tweets negativos \n",
    "    <img src=\"images/logprior.png\" width=20%>\n",
    "    \n",
    "Espera-se que o **log prior** de nosso _dataset_ seja igual a **zero**, pois temos um _dataset_ balanceado!"
   ]
  }
 ],
 "metadata": {
  "kernelspec": {
   "display_name": "Python 3",
   "language": "python",
   "name": "python3"
  },
  "language_info": {
   "codemirror_mode": {
    "name": "ipython",
    "version": 3
   },
   "file_extension": ".py",
   "mimetype": "text/x-python",
   "name": "python",
   "nbconvert_exporter": "python",
   "pygments_lexer": "ipython3",
   "version": "3.9.0"
  },
  "varInspector": {
   "cols": {
    "lenName": 16,
    "lenType": 16,
    "lenVar": 40
   },
   "kernels_config": {
    "python": {
     "delete_cmd_postfix": "",
     "delete_cmd_prefix": "del ",
     "library": "var_list.py",
     "varRefreshCmd": "print(var_dic_list())"
    },
    "r": {
     "delete_cmd_postfix": ") ",
     "delete_cmd_prefix": "rm(",
     "library": "var_list.r",
     "varRefreshCmd": "cat(var_dic_list()) "
    }
   },
   "types_to_exclude": [
    "module",
    "function",
    "builtin_function_or_method",
    "instance",
    "_Feature"
   ],
   "window_display": false
  }
 },
 "nbformat": 4,
 "nbformat_minor": 4
}
