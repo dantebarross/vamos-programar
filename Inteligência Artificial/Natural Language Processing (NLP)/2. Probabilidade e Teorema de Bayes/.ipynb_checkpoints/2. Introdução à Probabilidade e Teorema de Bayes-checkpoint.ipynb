{
 "cells": [
  {
   "cell_type": "markdown",
   "metadata": {},
   "source": [
    "# 2. Introdução à Probabilidade e Teorema de Bayes\n",
    "Bem vindo ao segundo módulo do guia de NLP. Entraremos agora no campo da **probabilidade**, em específico utilizando os conceitos do **teorema de Bayes**, que descreve a probabilidade de um evento baseado em conhecimentos anteriores, relacionados ao evento.\n",
    "\n",
    "Essa parte é importante para o NLP e é **muito útil também para outras áreas**, que costumam apoiar-se no mesmo teorema em seus estudos probabilísticos. Recomendo olhar a página do Wikipédia sobre isso: https://pt.wikipedia.org/wiki/Teorema_de_Bayes\n",
    "\n",
    "Ao longo desse segundo módulo vamos:\n",
    "1. Entender o que são **probabilidades**, como elas funcionam e como podemos expressar isso **matematicamente**;\n",
    "2. Derivar o teorema de Bayes a partir do conceito de **probabilidade condicionada**;\n",
    "3. Realizar **análise de sentimento em tweets**. Será que vamos obter um resultado melhor que a Regressão Logística?"
   ]
  },
  {
   "cell_type": "markdown",
   "metadata": {},
   "source": [
    "### 2.1 Introdução\n",
    "\n",
    "<img src=\"images/probabilidade happy.png\" width=30%/>\n",
    "\n",
    "Imaginemos um corpus extensivo de tweets, categorizados em \"Positivo\" **OU** \"Negativo\". Podemos observar que a palavra \"happy\" aparece em ambas categorias, porém mais frequentemente em \"Positivo\", e também **mais provável** de ocorrer nessa categoria. Uma maneira de pensarmos em **probabilidade** é calculando a frequência que esse evento **ocorre**.\n",
    "\n",
    "Vamos primeiramente calcular a probabilidade de um tweet ser etiquetado como \"Positivo\".\n",
    "\n",
    "- A > Tweet etiquetado como \"Positivo\"\n",
    "- P(A) = P(Positivo) = $N_{pos} / N$ \n",
    "\n",
    "Podemos dizer então que a **probabilidade** (P) do evento A ocorrer é calculado como a **razão** entre a **contagem de \"Positivo\"** no corpus **dividido** pelo **número total** de tweets no corpus**.\n",
    "\n",
    "Analise a imagem acima. Vamos contar o número de quadrados. São 20 quadrados e 13 deles são \"Positivos\". Portanto, **a probabilidade de um tweet ser etiquetado como \"Positivo\"** pode ser expressada como:\n",
    "1. $13 \\div 20$ ou $13/20$ ou $\\frac{13}{20}$;\n",
    "2. 0.65;\n",
    "3. 65%.\n",
    "\n",
    "Sabemos que 65% é a chance de um tweet ser etiquetado como \"Positivo\". Para medirmos a mesma chance para o tweet \"Negativo\", realizamos a simples operação **1 - 0.65**, ou seja, **um - probabilidade de ser \"Positivo\"** = **0.35**.\n",
    "\n",
    "Para que tudo o que dissemos acima seja válido, os tweets devem ser OU positivos OU negativos, nunca pertencendo a duas categorias ao mesmo tempo."
   ]
  },
  {
   "cell_type": "markdown",
   "metadata": {},
   "source": [
    "### 2.2 Exemplo 2\n",
    "<img src=\"images/probabilidade happy2.png\" width=25%/>\n",
    "\n",
    "Agora temos um evento **B**. Vamos contar o número **N** de tweets que contém a palavra **happy**, que é N = 4. A probabilidade, no corpus inteiro, de ter tweets que contém a palavra **happy** é **0.2**; \n",
    "\n",
    "* B > Tweet que contém \"happy\".\n",
    "* P(B) = P(happy) = $N_{happy}/N$\n",
    "* P(B) = 4 / 20 = 0.2\n",
    "\n",
    "**O mesmo corpus, porém uma outra consideração e análise gráfica**:\n",
    "<img src=\"images/probabilidade happy2.1.png\" width=60%/>\n",
    "\n",
    "Preste atenção ao **Diagrama de Venn**, vulgo \"círculos interseccionados\":\n",
    "1. O **tamanho** da categoria \"Positive\" é seu círculo. Pode ser medido calculando a **proporção** da área verde \"Positive\" **dividido** pela área de todo o **corpus**;\n",
    "2. A sessão onde **happy** = **Positivo** pode ser medida calculando a **proporção** da área da intersecção **dividido** pela área de todo o **corpus**.\n",
    "\n",
    "Ou seja, \n",
    "1. se existem 20 tweets no **corpus**;\n",
    "2. e três deles estão etiquetados como positivos **E** possuem a palavra \"**happy**\";\n",
    "3. a probabilidade que \"happy\" seja classificado como \"Positivo\" será **3/20** = **0.15**.\n",
    "\n",
    "\n",
    "Percebeu como nós acabamos de calcular a probabilidade de **dois eventos acontecerem ao mesmo tempo**? \n",
    "* Calculamos a probabilidade de ser **Positivo**...\n",
    "* **+** a probabilidade desse \"Positivo\" conter \"**happy**\"."
   ]
  }
 ],
 "metadata": {
  "kernelspec": {
   "display_name": "Python 3",
   "language": "python",
   "name": "python3"
  },
  "language_info": {
   "codemirror_mode": {
    "name": "ipython",
    "version": 3
   },
   "file_extension": ".py",
   "mimetype": "text/x-python",
   "name": "python",
   "nbconvert_exporter": "python",
   "pygments_lexer": "ipython3",
   "version": "3.9.0"
  },
  "varInspector": {
   "cols": {
    "lenName": 16,
    "lenType": 16,
    "lenVar": 40
   },
   "kernels_config": {
    "python": {
     "delete_cmd_postfix": "",
     "delete_cmd_prefix": "del ",
     "library": "var_list.py",
     "varRefreshCmd": "print(var_dic_list())"
    },
    "r": {
     "delete_cmd_postfix": ") ",
     "delete_cmd_prefix": "rm(",
     "library": "var_list.r",
     "varRefreshCmd": "cat(var_dic_list()) "
    }
   },
   "types_to_exclude": [
    "module",
    "function",
    "builtin_function_or_method",
    "instance",
    "_Feature"
   ],
   "window_display": false
  }
 },
 "nbformat": 4,
 "nbformat_minor": 4
}
