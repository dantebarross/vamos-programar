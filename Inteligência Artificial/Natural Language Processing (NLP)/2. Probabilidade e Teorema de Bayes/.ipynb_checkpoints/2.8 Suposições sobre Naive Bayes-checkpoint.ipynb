{
 "cells": [
  {
   "cell_type": "markdown",
   "metadata": {},
   "source": [
    "# 2.8 Suposições sobre Naive Bayes\n",
    "A **independência** das palavras em uma sentença pode ser um **problema** ao aplicar o método Naive Bayes. Isso acontece pois utilizando-o, não precisamos customizá-lo selecionando parâmetros. Não é à toa que ele se chama \"Naive\" (Ingênuo).\n",
    "\n",
    "#### A independência entre preditores e features associados com cada classe\n",
    "1. Vamos analisar a seguinte frase: ``It is sunny and hot in the Sahara desert.\"``\n",
    "    * O Naive Bayes assumirá que as palavras são totalmente independentes, porém a frase acima possui dois termos que são **muito dependentes** um do outro, \"sunny and hot\", inclusive com o uso da conjunção **and**.\n",
    "2. ``It's always cold and snowy in____.``\n",
    "    * Aqui, esse método não saberá que o preenchimento está a se tratar de **winter** (inverno). Para ele, a probabilidade de ser winter, summer, fall e spring **são iguais**.\n",
    "    * Nós estamos calculando o **sentimento**, não o **significado** das palavras e frases.\n",
    "\n",
    "#### _Sets_ de validação\n",
    "A distribuição do _set_ de treino pode nos dar algumas dores de cabeça.\n",
    "\n",
    "1. Um bom _dataset_ contém **a mesma proporção** entre tweets positivos e negativos;\n",
    "2. Isso não acontece com frequência. O que podemos fazer é **balancer artificialmente** o _dataset_;\n",
    "3. No tweet verdadeiro, a maior parte dos tweets são **positivos**.\n",
    "\n",
    "### 2.8.1 O que fazer então?\n",
    "Caso nosso modelo apresente erros, precisamos fazer algo sobre isso. Para isso, precisamos **analisar os erros**. Alguns geradores de erros podem ser:\n",
    "1. perda de significado semântico depois do pré-processamento;\n",
    "2. a ordem das palavras pode afetar seu significado;\n",
    "3. peculiaridades das línguas podem confundir o modelo Naive Bayes.\n",
    "\n",
    "O primeiro modo de analisar as \"fontes de erros\" é **olhar para o _dataset_**, ou seja, observar os tweets **crus** e perceber quais características podem resultar em um erro! Olhe a frase abaixo:\n",
    "* \"Minha amada vovó :(\";\n",
    "* Perceba que amada e vovó trazem sentimentos de felicidade, porém o emoticon \"**:(**\" é capaz de reverter qualquer sentimento positivo.\n",
    "* Nesse caso, ao remover pontuações, o emoticon pode ser perdido e o tweet ser classificado como **positivo**.\n",
    "\n",
    "Um outro caso:\n",
    "* \"Eu não gosto de você pois você não faz nada direito!\"\n",
    "* Esse tweet é completamente negativo, porém ao **remover as stopwords**, a palavra **não** pode ser filtrada;\n",
    "* Isso fará com que o tweet seja classificado como **positivo**.\n",
    "* Porém não se engane, a palavra **não** também pode pertencer a um tweet positivo, como o seguinte:\n",
    "* \"Eu estou aliviado pois **não** reprovei de ano.\"\n",
    "\n",
    "Os **ataques adversários** (adversarial attacks) são outros tipos comuns de problemas que ocorrem com o Naive Bayes. São eles:\n",
    "1. uso do sarcasmo;\n",
    "2. uso da ironia;\n",
    "3. eufemismo.\n",
    "\n",
    "Já deu pra sacar o problema né? Estes tipos de problemas não têm solução simples se optarmos por utilizar apenas o modelo Naive Bayes. A boa notícia é que podemos utilizar outros métodos em conjunto para melhorar nossa performance. Procure saber mais sobre **word vectors** e **word embeddings**."
   ]
  }
 ],
 "metadata": {
  "kernelspec": {
   "display_name": "Python 3",
   "language": "python",
   "name": "python3"
  },
  "language_info": {
   "codemirror_mode": {
    "name": "ipython",
    "version": 3
   },
   "file_extension": ".py",
   "mimetype": "text/x-python",
   "name": "python",
   "nbconvert_exporter": "python",
   "pygments_lexer": "ipython3",
   "version": "3.9.0"
  },
  "varInspector": {
   "cols": {
    "lenName": 16,
    "lenType": 16,
    "lenVar": 40
   },
   "kernels_config": {
    "python": {
     "delete_cmd_postfix": "",
     "delete_cmd_prefix": "del ",
     "library": "var_list.py",
     "varRefreshCmd": "print(var_dic_list())"
    },
    "r": {
     "delete_cmd_postfix": ") ",
     "delete_cmd_prefix": "rm(",
     "library": "var_list.r",
     "varRefreshCmd": "cat(var_dic_list()) "
    }
   },
   "types_to_exclude": [
    "module",
    "function",
    "builtin_function_or_method",
    "instance",
    "_Feature"
   ],
   "window_display": false
  }
 },
 "nbformat": 4,
 "nbformat_minor": 4
}
