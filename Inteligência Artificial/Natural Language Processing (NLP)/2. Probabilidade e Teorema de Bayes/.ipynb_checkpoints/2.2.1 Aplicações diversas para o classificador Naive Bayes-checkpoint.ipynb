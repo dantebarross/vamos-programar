{
 "cells": [
  {
   "cell_type": "markdown",
   "metadata": {},
   "source": [
    "# 2.2.1 Aplicações diversas para o classificador Naive Bayes\n",
    "Nesse módulo, estamos utilizando o **classificador Naive Bayes** para estimar o sentimento de um tweet, porém existem **diversas outras utilidades** de um modelo desse tipo, como por exemplo identificar quem é o autor de um texto.\n",
    "\n",
    "O que acontece quando utilizamos o Naive Bayes para predizer os sentimentos de um tweet, nós estamos **estimando a probabilidade para cada classe** utilizando o conjunto de probabilidades de cada palavra em cada classe.\n",
    "\n",
    "A fórmula do Naive Bayes é apenas a razão entre essas duas probabilidades/produto dos priors e suas previsões.\n",
    "\n",
    "Podemos utilizar essa razão entre probabilidades condicionais em **vários outros contextos**! Se tivermos dois corpus grandes, um escrito por **Shakespeare** e outro escrito por **Hemingway**, podemos treinar um modelo que reconheça um novo documento (nova input) como **autoria** de uma dessas pessoas! Podemos, por exemplo, calcular o **lambda** para cada palavra, dizendo o quão provavel uma nova palavra pode ser utilizada por um ou pelo outro.\n",
    "\n",
    "<img src=\"images/naive bayes outros.png\" width=25%>\n",
    "\n",
    "Outro uso é o **detector de spam**, podendo ser utilizado o corpus de e-mails da própria pessoa que recebe!\n",
    "\n",
    "Um dos primeiros usos do Naive Bayes foi para filtrar **documentos relevantes** e **irrelevantes** em _databases_. Para isso, utilizava palavras-chave em uma consulta aos documentos. Por exemplo, se a consulta a um documento específico retornar um valor maior do que o threshold (limite estabelecido), ele é um documento relevante!\n",
    "\n",
    "Também podemos utilizar o Naive Bayes para realizar **desambiguação de palavras**: \"quebrando\" as palavras para obter uma claridade contextual:\n",
    "1. se possuirmos duas interpretações de uma palavra em um texto, por exemplo \"manga\" fruta e \"manga\" de blusa...\n",
    "2. calculamos a pontuação de um documento dado que ele se refere a cada uma dessas interpretações;\n",
    "3. se a pontuação for maior para \"manga\" fruta, então sabemos que o texto está falando de \"manga\" como fruta."
   ]
  }
 ],
 "metadata": {
  "kernelspec": {
   "display_name": "Python 3",
   "language": "python",
   "name": "python3"
  },
  "language_info": {
   "codemirror_mode": {
    "name": "ipython",
    "version": 3
   },
   "file_extension": ".py",
   "mimetype": "text/x-python",
   "name": "python",
   "nbconvert_exporter": "python",
   "pygments_lexer": "ipython3",
   "version": "3.9.0"
  },
  "varInspector": {
   "cols": {
    "lenName": 16,
    "lenType": 16,
    "lenVar": 40
   },
   "kernels_config": {
    "python": {
     "delete_cmd_postfix": "",
     "delete_cmd_prefix": "del ",
     "library": "var_list.py",
     "varRefreshCmd": "print(var_dic_list())"
    },
    "r": {
     "delete_cmd_postfix": ") ",
     "delete_cmd_prefix": "rm(",
     "library": "var_list.r",
     "varRefreshCmd": "cat(var_dic_list()) "
    }
   },
   "types_to_exclude": [
    "module",
    "function",
    "builtin_function_or_method",
    "instance",
    "_Feature"
   ],
   "window_display": false
  }
 },
 "nbformat": 4,
 "nbformat_minor": 4
}
