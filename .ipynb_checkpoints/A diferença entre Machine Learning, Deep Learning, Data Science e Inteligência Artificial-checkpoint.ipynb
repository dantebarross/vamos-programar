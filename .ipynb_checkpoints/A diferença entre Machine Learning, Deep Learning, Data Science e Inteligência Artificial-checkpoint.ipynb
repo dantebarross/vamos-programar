{
 "cells": [
  {
   "cell_type": "markdown",
   "metadata": {},
   "source": [
    "# A diferença entre Machine Learning, Deep Learning, Data Science e Inteligência Artificial\n",
    "\n",
    "Você já se pegou pensando em qual a diferença entre ML (Machine Learning), DP (Deep Learning), DS (Data Science) e AI (Artificial Intelligence)?\n",
    "\n",
    "Fique tranquilo, essa dúvida é super comum! A divisão não é nada intuitiva, pois os quatro conceitos/áreas estão muito próximos. Existem intersecções entre todos eles e alguns desses são subcategorias. Nesse guia tratarei de uma forma direta e simplificada, definindo e diferenciando cada um deles.\n",
    "\n",
    "Vamos definir:\n",
    "\n",
    "### Data Science (DS)\n",
    "Data Science (ou **Ciência de Dados**) é a ciência que se preocupa em **colher, estruturar, manipular** e **analisar DADOS**. É por conta das facilidades que a tecnologia criou que hoje em dia **o Data Science caminha de mãos dadas com o Machine Learning**. Eles utilizam algoritmos muito parecidos e estão constantemente utilizando métodos uns dos outros.\n",
    "\n",
    "Mas **não se engane**, no final possuem objetivos específicos. Quanto mais você estuda um desses ramos, mais percebe isso! Os objetivos de cada um são:\n",
    "1. O Data Science analisa dados para saber **o que está acontecendo** em determinada situação, o famoso **insight**;\n",
    "2. O Machine Learning analisa dados para saber **o que acontecerá** após determinada ação.\n",
    "\n",
    "Exemplo de análises de Data Science:\n",
    "1. Qual o perfil das pessoas que acessam meu site?\n",
    "2. Qual o trajeto que realizam até realizar determinada ação?\n",
    "3. O que um determinado perfil de pessoas mais procurou?\n",
    "\n",
    "O uso de **gráficos** para representar e entender melhor as análises é imprescindível!\n",
    "\n",
    "Por fim, precisamos dizer que o cientista de dados **cria hipóteses** a partir dos resultados obtidos ao aplicar os algoritmos e modelos estatísticos em uma base de dados.\n",
    "\n",
    "### Machine Learning (ML)\n",
    "Machine Learning (ou **Aprendizado de Máquina**) é o estudo e aplicação de **algorítmos matemáticos** e **modelos estatísticos**. Esses métodos podem ser aplicados **com** ou **sem** instrução específica do que fazer e como fazer. Tais métodos encontram padrões entre os dados apresentados.\n",
    "\n",
    "Podemos dizer seguramente que um dos maiores objetivos do Machine Learning está na **previsão**, que é feita após detectar padrões nos dados, aplicando algoritmos para isso.\n",
    "\n",
    "Um modelo de Machine Learning também pode **realizar ações**. Caso não performe de modo satisfatório, o processo de **treinamento** deve continuar. **Análises estatísticas** são realizadas para entender o que está acontecendo e como o modelo está performando.\n",
    "\n",
    "Para realizar tal treinamento, é muito comum realizar a divisão dos dados disponíveis. A maior parte dos dados é utilizado para **aplicar o algoritmo de ML** e uma menor parte é utilizada como **treinamento**, comparando os resultados obtidos pelo método de ML com os dados classificados corretamente por um humano (ou por um modelo de ML/DP mais avançado).\n",
    "\n",
    "Não é preciso ter um conhecimento extenso em matemática e estatística para criar e treinar modelos de ML, pois a maior parte do trabalho é feito **automaticamente** (mas também de maneira guiada) através de bibliotecas e uso de APIs.\n",
    "\n",
    "### Deep Learning (DP)\n",
    "Deep Learning (ou **Aprendizado Profundo**), como o nome pode sugerir, é um Machine Learning mais profundo. O DP utiliza métodos estruturados, hierarquizados. São baseados nas chamadas **redes neurais artificiais/artificial neural networks/RNN**. Tanto os treinamentos de **Machine Learning** quanto o de **Deep Learning** podem ser realizados de três formas:\n",
    "1. Supervisionado;\n",
    "2. Semi-supervisionado;\n",
    "3. Não-supervisionado.\n",
    "\n",
    "### Artificial Intelligence (AI)\n",
    "Artificial Intelligence (ou **Inteligência Artificial**) é um conceito **TÃO** abstrato que com o passar o tempo, a gente vai esquecendo e até mesmo evitando invocar o termo. \n",
    "\n",
    "Uma Inteligência Artificial é aquela inteligência que é muito similar à humana. Para alcançar tal resultados utiliza-se de hardware e software, independente do método escolhido. O importante é o resultado!\n",
    "\n",
    "Podemos dizer então que **se um modelo de ML ou de DP** estão obtendo uma boa performance, **eles são considerados Inteligências Artificiais**.\n",
    "\n",
    "Creio que um bom modo de definir se o sistema já alcançou o patamar é se perguntar: ele está performando igual um ser humano? Se você já ouviu falar de Alan Turing e de seu **Teste de Turing** (TT), ele busca exatamente isso. Esse teste \"testa\" se uma pessoa confunde ou não o sistema com um ser humano. Se confundir, passou no teste! É Inteligência Artificial.\n",
    "\n",
    "Está pronto pra se decepcionar? A abstração não terminou, **a Inteligência Artificial ainda não existe**. O que eu estou tentando dizer é que ainda não foi feito **UM SISTEMA COMO UM TODO** que represente a inteligência cerebral humana.\n",
    "\n",
    "O que temos hoje em dia são **Inteligências Artificiais Fracas**, ou seja, milhares de hardwares e softwares **capazes de performar ações específicas que se igualam à performance humana**. O Teste de Turing era utilizado para classificar esse tipo de Inteligência Artificial.\n",
    "\n",
    "Para concluir, esse conceito abarca todas as técnicas, métodos e algoritmos realizados através do **DS, ML e DP** e abarcará os próximos métodos que virão a surgir.\n",
    "\n",
    "Deixarei duas questões a serem refletidas:\n",
    "1. Se um sistema performa melhor que o ser humano (como a pilotagem de uma nave ou previsão de algo), isso é \"Inteligência Artificial Fraca\" ou já ultrapassou tal conceito a ponto de não ser mais considerado AI?\n",
    "2. Será que é possível mesmo criar uma \"Inteligência Artificial Forte\"?"
   ]
  }
 ],
 "metadata": {
  "kernelspec": {
   "display_name": "Python 3",
   "language": "python",
   "name": "python3"
  },
  "language_info": {
   "codemirror_mode": {
    "name": "ipython",
    "version": 3
   },
   "file_extension": ".py",
   "mimetype": "text/x-python",
   "name": "python",
   "nbconvert_exporter": "python",
   "pygments_lexer": "ipython3",
   "version": "3.9.0"
  },
  "varInspector": {
   "cols": {
    "lenName": 16,
    "lenType": 16,
    "lenVar": 40
   },
   "kernels_config": {
    "python": {
     "delete_cmd_postfix": "",
     "delete_cmd_prefix": "del ",
     "library": "var_list.py",
     "varRefreshCmd": "print(var_dic_list())"
    },
    "r": {
     "delete_cmd_postfix": ") ",
     "delete_cmd_prefix": "rm(",
     "library": "var_list.r",
     "varRefreshCmd": "cat(var_dic_list()) "
    }
   },
   "types_to_exclude": [
    "module",
    "function",
    "builtin_function_or_method",
    "instance",
    "_Feature"
   ],
   "window_display": false
  }
 },
 "nbformat": 4,
 "nbformat_minor": 4
}
