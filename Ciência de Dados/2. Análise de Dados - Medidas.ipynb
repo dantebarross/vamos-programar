{
 "cells": [
  {
   "attachments": {
    "image.png": {
     "image/png": "[encoded data removed]"
    }
   },
   "cell_type": "markdown",
   "metadata": {},
   "source": [
    "# Análise de Dados - Medidas\n",
    "Como sugere o título, esse guia contextualizará a análise de dados através das **medidas** e como podemos fazer isso de um jeito simples.\n",
    "\n",
    "Hoje, a internet gera uma quantidade enorme de dados a cada instante. Saiba que são feitas aproximadamente dois milhões de buscas no Google por minuto, e ele é apenas mais um dos mecanismos. \n",
    "\n",
    "Para analisar esses dados, é possível utilizar diversas técnicas e ferramentas (todas baseadas em teorias), porém **a mais básica de todas é o entendimento das medidas simples**, que são medidas estatísticas.\n",
    "\n",
    "### Sumário\n",
    "\n",
    "### 1. Tipos de dados\n",
    "Antes de entrarmos no mérito de analisar dados, precisamos entender o que são eles e quais os tipos de dados. Os números **não são** a maior parte deles, porém hoje em dia **os dados são transformados em números para que o computador possa interpretá-los**.\n",
    "\n",
    "Os **dados não estruturados** são aqueles que não possuem uma estrutura concreta, existindo uma enorme variabilidade:\n",
    "1. Textos - qualquer tipo de texto encontrado na internet;\n",
    "1. Áudios, Vídeos e Imagens;\n",
    "1. Grafos (são redes, nós, como a rede de amigos do Facebook, que te indica os amigos em comum, etc);\n",
    "1. Webpages (código fonte das páginas);\n",
    "1. Séries temporais (são dados do mesmo objeto que variam com o tempo);\n",
    "\n",
    "Se pegarmos o Facebook ou a Wikipedia, podemos encontrar todos os tipos de **dados não estruturados** acima. Consegue pensar em mais alguma plataforma que também contenha tudo isso?\n",
    "\n",
    "Como dito antes, esses dados são transformados para que o computador possa interpretá-los. Também são transformados para que **nós humanos** possamos analisá-los. Sendo assim, transformamos os **dados não estruturados** em **dados estruturados**, possuindo atributos/valores.\n",
    "\n",
    "Os dados são estruturados em matrizes, onde a coluna diz respeito aos objetos (uma imagem por exemplo) e a linha diz respeito aos atributos (o que aquela imagem representa). No exemplo abaixo, uma tabela analisa o objeto **tipos de carro** e possui atributos **motor**, **quantos kilomestros roda por litro** e **ano de fabricação**.\n",
    "\n",
    "Objeto   | Motor | Gasto de combustível (Km/L) | Ano\n",
    "--------- | ------ | ---- | -------\n",
    "Carro 1 | x | 10,3 | 2007\n",
    "Carro 2 | y |  8,7 | 2012\n",
    "... | ... | ... | ...\n",
    "Carro n | z | 9,0 | 2020\n",
    "\n",
    "Os dados **não precisam ser numéricos**. Vamos ver alguns tipos de variáveis:\n",
    "1. Qualitativas:\n",
    "    1. Nominais (sem significado matemático, exemplo: **motor x, y, z**);\n",
    "    2. Ordinais (também não são números, porém representam uma ordem, exemplo: **pouco, médio, muito** ou **baixo, médio, alto**).\n",
    "2. Quantitativas:\n",
    "    1. Discretas (valores contáveis, exemplo: **ano = 2007**);\n",
    "    2. Contínuas (valores reais, exemplo: **gasto de combustível = 10,3**, **peso**, **distância**, etc).\n",
    "    \n",
    "Na tabela fictícia abaixo em que podemos analisar as relações entre as diversas variáveis de uma pessoa para entender o porquê de uma _Nota final_.\n",
    "    \n",
    " Código | Nome | Idade | Sexo | Região | Escolaridade | Nota final \n",
    "--- | --- | --- | --- | --- | --- | ---\n",
    "1 | Mário | 20 | Masculino | Sudeste | Ensino Médio | 70\n",
    "2 | Julia | 19 | Feminino | Centro-oeste | Ensino Médio | 73\n",
    "3 | Clebson | 32 | Masculino | Nordeste | Ensino Superior | 85\n",
    "... | ... | ... | ... | ... | ... | ...\n",
    "77 | Roberta | 26 | Feminino | Norte | Ensino Superior | 83\n",
    "\n",
    "    \n",
    "    \n",
    "Apesar de as colunas **Nome** e **Código** representarem o **Objeto**, elas podem ser entendidas como dados do tipo **qualitativo nominal**. A coluna Código possui valores numéricos, mas o número é apenas um símbolo indicando uma pessoa. As colunas **Região** e **Sexo** também possuem dados qualitativos nominais.\n",
    "\n",
    "A coluna **Escolaridade** também possui dados qualitativos, porém diferentemente dos anteriores, eses são **qualitativos ordinais**, pois o nível de escolaridade pode ser interpretado como sendo **baixo**, **médio** e **alto**, e até mesmo transformado em numerais, como **1**, **2** e **3**.\n",
    "\n",
    "A coluna **Idade** diz respeito a um dado **quantitativo discreto**, pois é um número que podemos contar facilmente. \n",
    "\n",
    "Já a coluna **Nota final** possui dados **quantitativos contínuos**, pois apesar de ser numérico, é um número que possui suas próprias variáveis (por exemplo o peso de questões em uma prova, a média de todas elas, nota de uma redação, etc).\n",
    "\n",
    "\n",
    "### 2. Escala de dados\n",
    "A **escala de dados** diz respeito a quais operações lógicas podem ser realizadas nos valores dos atributos. Vamos entender melhor descrevendo com os tipos de dados e as operações possíveis. \n",
    "\n",
    "1. Qualitativas:\n",
    "    1. Nominais: **=** e **≠**. Exemplo: Sudeste **=** Sudeste; Norte ≠ Nordeste;\n",
    "    2. Ordinais: **=**, **≠**, **<**, **>**, **≤**, **≥**. Essas outras operações são possíveis pois os dados qualitativos ordinais são **contáveis**. **Escolaridade baixa < alta**.\n",
    "2. Quantitativas:\n",
    "    1. Intervalares: **=, ≠, <, >, ≤, ≥, +** e **-**: datas, temperatura, distância, etc. Esse tipo de valor não pode ser contabilizado como um numeral comum. 20 celsius não é o dobro de 10 celsius, pois é uma escala baseada em Kelvin. O ano 2000 também não pode ser o dobro do ano 1000, pois o calendário é baseado em datas abstratas. Alguns anos são maiores do que os outros, por exemplo.\n",
    "    2. Racionais: **=, ≠, <, >, ≤, ≥, +, -, *** e **/** diferente dos intervalares, os valores numéricos racionais possuem um **significado absoluto**. Uma grande diferença entre números intervalares e números racionais é que o último pode conter o número zero absoluto. Exemplo: a própria escala Kelvin, que possui um zero absoluto, além de salário, número de objetos e pessoas, saldo em conta. Aqui podemos **multiplicar e dividir**. Metade de um valor é obtido através da divisão por dois.\n",
    "    \n",
    "    \n",
    "Consulte a tabela abaixo para ver o que cada símbolo significa e uma exemplificação mais gráfica!\n",
    "\n",
    "Símbolo | Operação | Qualitativo nominal | Qualitativo Ordinal | Quantitativo Intervalar | Quantitativo Racional\n",
    "--| ---       | ---               | ---           | --| ---\n",
    "= | Igual     | Sudeste = Sudeste | Baixo = Baixo  | 32º F = 32º F | 9,807 m/s² = 9,807 m/s² (gravidade da terra)\n",
    "≠ | Diferente | Norte ≠ Nordeste  | Muito ≠ Pouco | 32º F ≠ -32º F  | 1.000 N ≠ 3.000 N (força do soco de um boxeador)\n",
    "< | Menor |    | Baixo < Alto | 10ºC < 20ºC | 20 centavos < 21 centavos\n",
    "> | Maior |    | Alto > Baixo | 10ºC > 20ºC | 20,10 reais > 20,01 reais\n",
    "≤ | Menor ou igual |    | Alto ≤ Alto | ano 200 a.C. ≤ 400 d.C. | 200K ≤ 300K\n",
    "≥ | Maior ou igual |    | Alto ≥ Alto | ano 200 a.C. ≥ 200 a.C. | 4 laranjas ≥ 4 laranjas\n",
    "+ | Positivo | | | 20ºC  | + 200 reais de saldo\n",
    "- | Negativo | | | -20ºC | - 200 reais de saldo\n",
    "/ | Divisão | | | | 800K / 2 = 400K\n",
    "* | Multiplicação | | | | 400 reais * 2 = 800 reais\n",
    "\n",
    "\n",
    "### 3. Vamos descrever os dados!\n",
    "Vimos até aqui:\n",
    "1. quais são os diferentes tipos de atributos\n",
    "2. como classificamos os valores\n",
    "3. quais operações podemos realizar\n",
    "\n",
    "Agora podemos **descrever os dados** através de métodos da **Estatística Descritiva**. As medidas que analisaremos são as seguintes:\n",
    "1. Medida de frequência;\n",
    "2. Medidas centrais;\n",
    "3. Medida de dispersão.\n",
    "\n",
    "Vamos ampliar a tabela que utilizamos anteriormente para exemplificar cada uma das medidas! Consideraremos somente as 10 primeiras linhas da matriz.\n",
    "\n",
    " Código | Nome | Idade | Sexo | Região | Escolaridade | Nota final \n",
    "--- | --- | --- | --- | --- | --- | ---\n",
    "1 | Mário | 20 | Masculino | Sudeste | Ensino Médio | 70\n",
    "2 | Julia | 19 | Feminino | Centro-oeste | Ensino Médio | 73\n",
    "3 | Clebson | 32 | Masculino | Nordeste | Ensino Superior | 85\n",
    "4 |  Kelly|   43  |Feminino  | Sudeste | Ensino Médio | 75\n",
    "5 | Salviano | 77 | Masculino | Norte | Ensino Médio | 34\n",
    "6 |Pietro  | 17 | Masculino | Sul | Ensino Superior  | 43\n",
    "7 | Jade |   24 | Feminino | Sul | Ensino Superior | 62\n",
    "8 |Gabrielly  | 17 | Feminino | Nordeste | Ensino Médio | 16\n",
    "9 |  Joesley  | 56 | Masculino | Centro-oeste | Ensino Médio | 64\n",
    "10 | Paulo   | 24 | Masculino | Sudeste | Ensino Superior | 94\n",
    "... | ... | ... | ... | ... | ... | ...\n",
    "\n",
    "\n",
    "#### 3.1 Medida de frequência\n",
    "A **medida de frequência** é a mais conhecida! Ela diz respeito à frequência de aparição de um certo valor. Vamos pegar a variante **Sexo**. O valor **Masculino** aparece 6 vezes e o **Feminino** aparece 4 vezes. Intuitivamente, 60% são Masculinos e 40% são Femininos.\n",
    "\n",
    "Para o cálculo da frequência **x**, a _regrinha de três_ pode ser utilizada. Podemos definir a fórmula como **Número de linhas * x = Número de Elementos * 100**. O número de elementos diz respeito a quantas vezes apareceu o elemento nas linhas selecionadas.\n",
    "\n",
    "Para medir a frequência **x** de pessoas masculinas:\n",
    "10 * x = 6 * 100\n",
    "10x = 600\n",
    "x = 600/10\n",
    "x = 60%\n",
    "\n",
    "#### 3.2 Medidas centrais\n",
    "##### Moda\n",
    "As medidas centrais são também chamadas de **Moda**. Com elas, costumamos medir dados **nominais** (porém é possível medir qualquer tipo de dado estruturado) com o objetivo de **retornar o valor mais comum**.\n",
    "\n",
    "Vamos medir a **Moda da variente Região** nas 10 primeiras linhas da matriz. Para isso, contamos o número de ocorrências de cada valor e identificamos qual deles aparece mais:\n",
    "\n",
    "Região | Número de aparições \n",
    "--- | ---\n",
    "Sul | 2\n",
    "Sudeste | 3\n",
    "Centro-oeste | 2\n",
    "Norte | 1\n",
    "Nordeste | 2\n",
    "\n",
    "Podemos constatar nesse rápido exemplo que **a Moda da variante Região é Sudeste**.\n",
    "\n",
    "Caso queira representar a medida de Frequência e a medida de Moda em **gráfico**, opte por representá-la através do gráfico de pizza. A ordenação dos valores em um gráfico de barras poderá dar uma falsa sugestão de que algo está crescendo ou decrescendo, e isso deve ser evitado pois não diz respeito à análise que queremos representar.\n",
    "\n",
    "##### Média\n",
    "Para determinar a medida central de **variáveis quantitativas**, nós calculamos o valor da **Média**. Para isso, **somamos** os valores e **dividimos** pelo número total de observações (linhas calculadas).\n",
    "\n",
    "Para calcular a Média da variante **Idade**, somamos todos os valores da coluna e dividimos pelo número de linhas (ou número de elementos somados).\n",
    "\n",
    "![image.png](attachment:image.png)"
   ]
  },
  {
   "cell_type": "code",
   "execution_count": 7,
   "metadata": {},
   "outputs": [
    {
     "name": "stdout",
     "output_type": "stream",
     "text": [
      "A Média da variável Idade é: 32.9\n"
     ]
    }
   ],
   "source": [
    "media_idade = (20 + 19 + 32 + 43 + 77 + 17 + 24 + 17 + 56 + 24) / 10\n",
    "print(\"A Média da variável Idade é:\", media_idade)"
   ]
  },
  {
   "cell_type": "markdown",
   "metadata": {},
   "source": [
    "#### Mediana\n",
    "**Não confunda Média com Mediana**. Essa última diz respeito ao **valor central**. Vamos exemplificar com o cálculo da Mediana da variável fictícia **peso**:\n",
    "\n",
    "Jorge | Matheus | Fernanda | Samanta | Carla\n",
    "-- | -- | -- | -- | --\n",
    "54.3 kg | 76.2 kg | 97.7 kg | 55.0 kg | 69.6 kg\n",
    "\n",
    "Para chegarmos ao valor central, precisamos:\n",
    "1. Ordenar os valores (pode ser crescente ou decrescente);\n",
    "\n",
    "Jorge | Samanta | Carla | Matheus | Fernanda\n",
    "-- | -- | -- | -- | --\n",
    "54.3 kg | 55.0 kg | 69.6 kg | 76.2 kg | 97.7 kg\n",
    "\n",
    "2. Saber se o número de elementos do conjunto de valores a ser calculado é um número **ímpar** ou **par**.\n",
    "    1. Ímpar: a **Mediana** é o valor do meio, ou seja, **69.6 kg**;\n",
    "    2. Par: a **Mediana** é a soma dos dois valores do meio / 2.\n",
    "\n",
    "Vamos adicionar mais um valor para calcular a Mediana de um conjunto par:\n",
    "\n",
    "Jorge | Samanta | Carla | Matheus | Fernanda | Roberto\n",
    "-- | -- | -- | -- | -- | --\n",
    "54.3 kg | 55.0 kg | 69.6 kg | 76.2 kg | 97.7 kg | 101.2 kg\n",
    "\n",
    "Como agora o número total de elementos do conjunto é de número **par**, a **Mediana** é a soma dos dois valores centrais dividido por dois."
   ]
  },
  {
   "cell_type": "code",
   "execution_count": 9,
   "metadata": {},
   "outputs": [
    {
     "name": "stdout",
     "output_type": "stream",
     "text": [
      "A mediana do conjunto é: 72.9\n"
     ]
    }
   ],
   "source": [
    "Carla = 69.6\n",
    "Matheus = 76.2\n",
    "mediana_par = (Carla + Matheus) / 2\n",
    "\n",
    "print(\"A mediana do conjunto é:\", mediana_par)"
   ]
  },
  {
   "cell_type": "code",
   "execution_count": null,
   "metadata": {},
   "outputs": [],
   "source": []
  }
 ],
 "metadata": {
  "kernelspec": {
   "display_name": "Python 3",
   "language": "python",
   "name": "python3"
  },
  "language_info": {
   "codemirror_mode": {
    "name": "ipython",
    "version": 3
   },
   "file_extension": ".py",
   "mimetype": "text/x-python",
   "name": "python",
   "nbconvert_exporter": "python",
   "pygments_lexer": "ipython3",
   "version": "3.9.0"
  },
  "varInspector": {
   "cols": {
    "lenName": 16,
    "lenType": 16,
    "lenVar": 40
   },
   "kernels_config": {
    "python": {
     "delete_cmd_postfix": "",
     "delete_cmd_prefix": "del ",
     "library": "var_list.py",
     "varRefreshCmd": "print(var_dic_list())"
    },
    "r": {
     "delete_cmd_postfix": ") ",
     "delete_cmd_prefix": "rm(",
     "library": "var_list.r",
     "varRefreshCmd": "cat(var_dic_list()) "
    }
   },
   "types_to_exclude": [
    "module",
    "function",
    "builtin_function_or_method",
    "instance",
    "_Feature"
   ],
   "window_display": false
  }
 },
 "nbformat": 4,
 "nbformat_minor": 4
}
