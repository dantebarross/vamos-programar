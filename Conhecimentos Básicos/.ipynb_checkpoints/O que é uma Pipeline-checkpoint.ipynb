{
 "cells": [
  {
   "cell_type": "markdown",
   "metadata": {},
   "source": [
    "# O que é uma Pipeline?\n",
    "<a name=\"intro\"></a>\n",
    "### Sumário\n",
    "1. [Introdução](#git1)\n",
    "2. [O que deve conter uma Pipeline](#git2)\n",
    "3. [Exemplo de Pipeline](#git3)\n",
    "4. [Problematização](#git4)\n",
    "5. [Como automatizar?](#git5)\n",
    "6. [Conclusão](#git6)\n",
    "\n",
    "\n",
    "### 1. Introdução <a name=\"git1\"></a> [🠡](#intro)\n",
    "Existem vários tipos de Pipeline por aí. Se você é um programador, a pergunta certa a se fazer é: o que é uma **DevOps Pipeline**? \n",
    "\n",
    "Em meus estudos, quando me deparei pela primeira vez com esse termo, não entendi absolutamente NADA do que queria dizer. Ao buscar uma explicação na internet, as respostas eram vagas. Vamos entender aqui de uma forma simples e absoluta!\n",
    "\n",
    "Tenha em mente que esse é um conceito usado geralmente no mundo dos negócios e geralmente é uma tarefa que envolve a **engenharia de software**. Caso você trabalhe ou venha a trabalhar em uma empresa de negócios, é importante que saiba **o que é** e **como pode conceitualizar** uma pipeline, desde o momento que recebe o pedido do cliente até a entrega do software.\n",
    "\n",
    "Uma Pipeline é _nada mais nada menos_ que uma linha de produção **padrão**, a qual uma equipe respeitará durante o desenvolvimento de um projeto de software, que deve possibilitar:\n",
    "1. integração contínua;\n",
    "2. implantação contínua e, finalmente,\n",
    "3. entrega contínua.\n",
    "\n",
    "Novamente nos deparamos com alguns **termos incompreensíveis**. Respira...\n",
    "\n",
    "A ideia por trás da criação de uma Pipeline é a de **fazer um sistema de desenvolvimento repetível e confiável, além de possibilitar o melhoramento contínuo no processo de desenvolvimento do software e da entrega do mesmo**. Ou seja, essa mesma Pipeline pode ser utilizada diversas vezes para diferentes projetos caso tenha funcionado bem! \n",
    "\n",
    "Talvez ainda esteja um pouco abstrado, então lá vai: A Pipeline tem como objetivo **agilizar a entrega de um software para seu cliente, desde o estágio de conceituação, passando pela finalização do projeto até chegar na entrega**. Tudo isso sem perder a qualidade, mas sim melhorando-a.\n",
    "\n",
    "Porém uma Pipeline pode ser mais do que isso. É vantajoso que ela permita realizar mudanças constantes durante a produção do software. Pra isso, pode utilizar vários processos automáticos (ferramentas podem ser utilizadas em cada uma das etapas do desenvolvimento).\n",
    "\n",
    "\n",
    "### 2. O que deve conter uma Pipeline <a name=\"git2\"></a> [🠡](#intro)\n",
    "Para a construção de uma Pipeline, os principais fatores a se considerar são:\n",
    "1. Processo de desenvolvimento - que tenha um sistema de feedback mais eficiente e rápido, além de possibilitar uma cultura de aprendizado (individual e em equipe);\n",
    "2. Arquitetura - deve possibilitar mudanças ágeis e que sejam resistentes caso haja falhas, e que as falhas possam ser corrigidas rapidamente;\n",
    "3. Tecnologia - ferramentas e softwares que aumentem a produtividade e a qualidade do software a ser desenvolvido;\n",
    "4. Infraestrutura - que traga segurança, agilidade e que permita a utilização das mais novas tecnologias. Exemplo: uso de bons servers, desenho de repositórios, sistema Git, uso de Clouds, Virtual Machines (VMs), etc.\n",
    "\n",
    "### 3. Exemplo de Pipeline <a name=\"git3\"></a> [🠡](#intro)\n",
    "Vamos imaginar uma Pipeline simplificada onde:\n",
    "1. O desenvolvedor escreve o código e realiza o _push_ para um repositório específico. \n",
    "2. Uma _build_ (compilação/método de execução) é criada em cima do código dentro do repositório.\n",
    "3. São realizados vários testes:\n",
    "    1. O desenvolvedor fará o _deploy_ do software (implementação) dentro do ambiente de testagem;\n",
    "    1. Testagem de execução da _build_, do sistema, de funcionamento, performance, Unit, etc;\n",
    "    1. Todos os problemas e sugestões são relatados para o desenvolvedor;\n",
    "4. Caso hajam correções, idealmente o desenvolvimento do projeto voltará para a etapa número 1 para os códigos serem revisados e implementações feitas. Quando o software passar por todos os testes, ele estará pronto para a etapa 5:\n",
    "5. Serão feitos **testes de interatividade**: \n",
    "    1. Teste de usabilidade, testagem dentro de um ambiente de produção;\n",
    "    1. Testes de segurança e de intrusão (_Security Pen testing_);\n",
    "6. Se passar por todos os testes, o projeto está pronto para entrar na fase de **Produção**:\n",
    "    1. O ambiente de produção é criado, configurado e a _build_ final é implementada (**deployed**) para o cliente.\n",
    "    \n",
    "### 4. Problematização <a name=\"git4\"></a> [🠡](#intro)\n",
    "O exemplo acima é apenas uma versão simplificada. Na verdade, se parece muito com o chamado **Ciclo de vida de desenvolvimento de sistemas** (_Systems development life cycle_, ou **SDLC**).\n",
    "\n",
    "Uma Pipeline realmente valiosa irá pegar todas as etapas acima e pensar: **como eu posso automatizar esses processos**?\n",
    "\n",
    "Ou seja, ela irá transformar a atividade que antes era manual (e por isso sucetível a erros e **burra** por envolver movimentos repetitivos) em atividades automáticas, que consomem menos tempo e estão menos sucetíveis ao erro humano.\n",
    "\n",
    "Ao automatizar tais processos, os membros da equipe podem gastar mais tempo realizando a melhoria dos códigos, de sua funcionalidade e performance.\n",
    "\n",
    "### 5. Como automatizar? <a name=\"git5\"></a> [🠡](#intro)\n",
    "Problematização feita, agora devemos pensar em **como podemos automatizar** esses procedimentos? \n",
    "\n",
    "E a resposta está basicamente com o bom uso de **ferramentas** e de uma configuração geral **sólida**.\n",
    "\n",
    "Sem muitas delongas, vamos pegar o _Exemplo de Pipeline_ acima e colocar algumas ferramentas úteis para cada etapa do desenvolvimento de um software.\n",
    "\n",
    "1. Escrita e Gerenciamento de controle de fonte - **IDEs** **Git** e integração com **GitHub**, **Jenkins**, etc.\n",
    "2. O **Jenkins** citado acima consegue executar várias ferramentas como a **Maven**, a **Ant**. Elas criam a _build_ a partir do repositório de códigos, e isso pode ser **automatizado**.\n",
    "3. Para validar a _build_, o **Jenkins** também:\n",
    "    1. pode integrar-se ao **Sonar**, **Fortify**, **coverity** que validam a _build_ de várias formas e realizam a checagem de sua qualidade. Cada uma dessas ferramentas de _Sanity Check_ podem ser personalizadas de acordo com a necessidade do desenvolvedor:\n",
    "    2. possui alguns **plugins** que realizam os testes de Unit, de script, de sistema, funcionamento, etc.\n",
    "4. Voltar à primeira etapa se necessário;\n",
    "5. Para o Teste de Interatividade, o **Jenkins** também integra-se a outros sistemas, como o **JUnit**, **Selenium**, **Cucumber**, **Sause Labs** e outros frameworks de teste, tudo isso rodando através de **scripts**\n",
    "6. Esses **servidores de integração contínua** também auxiliam na criação de um ambiente de produção:\n",
    "    1. As ferramentas **puppet**, **Chef** são as chamadas _ferramentas de gerenciamento de configuração_, que podem ser utilizadas para configurar o ambiente de produção automaticamente, além de realizar a **implementação** (**deployment**) da _build_ final dentro do ambiente criado, que pode ser um ambiente **VMware**, **AWS Cloud**, **Rackspace**, **openstack**, etc.\n",
    "    \n",
    "    \n",
    "### 6. Conclusão <a name=\"git6\"></a> [🠡](#intro)\n",
    "Ufa! Chegamos ao final desse rápido porém doloroso guia, e você deve ter percebido que esse tipo de estruturação não é brincadeira! Na verdade, exige esforço de equipes inteiras para que o sistema alcance um bom funcionamento. \n",
    "\n",
    "Para concluir, a pergunta final a se fazer é: **vale a pena eu planejar uma Pipeline para o sistema de desenvolvimento pessoal?**\n",
    "\n",
    "E eu te respondo: vale, **pelo menos**, realizar o desenho da linha de desenvolvimento de seus projetos e assim escolher algumas ferramentas que podem te ajudar nisso. É claro que utilizar tantas ferramentas e plugins **pode não fazer sentido algum para o seu projeto pessoal**.\n",
    "\n",
    "Finalmente, o desenvolvimento de uma Pipeline certamente **fará a diferença** dentro de uma empresa desenvolvedora de software, que trabalha sob **demanda**, **prazos** e que precisa garantir a **qualidade de seu produto**. A automatização auxiliará no respeito aos prazos e a equipe poderá focar no desenvolvimento e melhoramento de códigos."
   ]
  }
 ],
 "metadata": {
  "kernelspec": {
   "display_name": "Python 3",
   "language": "python",
   "name": "python3"
  },
  "language_info": {
   "codemirror_mode": {
    "name": "ipython",
    "version": 3
   },
   "file_extension": ".py",
   "mimetype": "text/x-python",
   "name": "python",
   "nbconvert_exporter": "python",
   "pygments_lexer": "ipython3",
   "version": "3.9.0"
  },
  "varInspector": {
   "cols": {
    "lenName": 16,
    "lenType": 16,
    "lenVar": 40
   },
   "kernels_config": {
    "python": {
     "delete_cmd_postfix": "",
     "delete_cmd_prefix": "del ",
     "library": "var_list.py",
     "varRefreshCmd": "print(var_dic_list())"
    },
    "r": {
     "delete_cmd_postfix": ") ",
     "delete_cmd_prefix": "rm(",
     "library": "var_list.r",
     "varRefreshCmd": "cat(var_dic_list()) "
    }
   },
   "types_to_exclude": [
    "module",
    "function",
    "builtin_function_or_method",
    "instance",
    "_Feature"
   ],
   "window_display": false
  }
 },
 "nbformat": 4,
 "nbformat_minor": 4
}
